{
 "cells": [
  {
   "cell_type": "markdown",
   "metadata": {},
   "source": [
    "Adquisición de datos en Python\n",
    "--------------------------------------\n",
    "\n",
    "\n",
    "En este Notebook encontraréis dos conjuntos de ejercicios: un primer conjunto de **ejercicios para practicar** y un segundo conjunto de **actividades evaluables** como PRÁCTICAS de la asignatura."
   ]
  },
  {
   "cell_type": "markdown",
   "metadata": {},
   "source": [
    "---"
   ]
  },
  {
   "cell_type": "markdown",
   "metadata": {},
   "source": [
    "## Ejercicios y preguntas teóricas\n",
    "\n",
    "A continuación, encontraréis los **ejercicios y preguntas teóricas que debéis completar en esta PRA** y que forman parte de la evaluación de esta unidad."
   ]
  },
  {
   "cell_type": "markdown",
   "metadata": {},
   "source": [
    "## Pregunta 1"
   ]
  },
  {
   "cell_type": "markdown",
   "metadata": {},
   "source": [
    "La respuesta recibida después de realizar una petición a una web API http es un objeto que contiene, entre otros, los siguientes atributos: **status.code**, **content** y **headers**.  Describe qué información contiene cada uno de los atributos anteriormente enumerados y pon un ejemplo de cada uno.  Recordad que hay que citar las referencias consultadas para responder la pregunta, y que la respuesta que proporcionéis debe ser original (redactada por vosotros mismos, después de haber leído y entendido las referencias que consideréis oportunas)."
   ]
  },
  {
   "cell_type": "markdown",
   "metadata": {},
   "source": [
    "**Respuesta**"
   ]
  },
  {
   "cell_type": "markdown",
   "metadata": {},
   "source": [
    "- **status.code:** Al acceder a una página web, se manda una petición al servidor de la misma, dicha petición devuelve un número estandarizado de tres cifras con la resolución de la petición, que puede haber sido satisfactoria o no. En función del valor del número que devuelva la petición sabremos el resultado de nuestra petición, existen muchas opciones, entre las más comunes, el error 404 (página inexistente), el error 500 (error interno del servidor) o 200 (resolución satisfactoria de la petición). Como ejemplo tendríamos cualquiera de los tres anteriormente nombrados.\n",
    "- **content:** También conocido como \"body\" o \"cuerpo\", el cuerpo de una respuesta es la información en sí misma que nos responde el servidor, no todas las respuestas tienen que incluir un cuerpo. Por ejemplo, cuando utilizamos un navegador para entrar en una web, el cuerpo de la respuesta del servidor será el código html de la propia página.\n",
    "- **headers:** Son información adicional en forma de clave-valor que se envía junto a una petición o respuesta. Hay distintos tipos de cabecera (de petición, de respuesta, generales,  y entidad) y pueden ser predefinidas o personalizadas por el usuario.  Un ejemplo podría ser la cabecera \"content-type\" que se utiliza para indicar al cliente qué formato tiene el cuerpo de la respuesta (html, json...). Un ejemplo de su uso:\n",
    "```\n",
    "content-type: text/html; charset=utf-8\n",
    "```\n",
    "\n",
    "\n",
    "**Referencias:**   \n",
    "[Referencia 1](https://developer.mozilla.org/es/docs/Web/HTTP/Status)    \n",
    "[Referencia 2](https://www.sololinux.es/http-status-codes-y-su-explicacion/)   \n",
    "[Referencia 3](https://developer.mozilla.org/es/docs/Web/HTTP/Messages)   "
   ]
  },
  {
   "cell_type": "markdown",
   "metadata": {},
   "source": [
    "## Pregunta 2"
   ]
  },
  {
   "cell_type": "markdown",
   "metadata": {},
   "source": [
    "Enumera tres librerías de Python para acceder a una API y especifica la API a la cual se accede. Para cada una de las librerías anteriormente enumeradas, pon un ejemplo de **endpoint** de la API que permite obtener una determinada información y de la función que permite obtenerla.  Recordad que hay que citar las referencias consultadas para responder la pregunta. \n",
    "\n",
    "**Nota**. Un ejemplo sería la librería de Python [Tweepy](http://www.tweepy.org/) que accede a la API de Twitter. Un posible endpoint sería *https://api.twitter.com/1.1/search/tweets.json* y la función *api.get_user()* permitiriá obtener información de un determinado usuario. "
   ]
  },
  {
   "cell_type": "markdown",
   "metadata": {},
   "source": [
    "**Respuesta**"
   ]
  },
  {
   "cell_type": "markdown",
   "metadata": {},
   "source": [
    "- **Librería [python-countries](https://github.com/leonkozlowski/python-countries):** esta librería accede a la API [restcountries](https://restcountries.eu/), una API para obtener información de países. Un posible endpoint sería https://restcountries.eu/rest/v2/name/aruba, permitiría obtener información de un país concreto, en este caso Aruba, y el código python para hacer la misma petición sería:\n",
    "```\n",
    "client = CountriesApi()\n",
    "client.country_name(\"aruba\")\n",
    "```\n",
    "- **Librería [github3.py](https://github3py.readthedocs.io/en/latest/):** esta librería accede a la [API de GitHub](https://docs.github.com/en/free-pro-team@latest/rest/overview), la API oficial para interactuar con GitHub. Un posible endpoint sería https://api.github.com/user/followers, que nos indica los seguidores del usuario, y el código python para hacer la misma petición sería:\n",
    "```\n",
    "gh = login('sigmavirus24', password='<password>')\n",
    "followers = gh.followers()\n",
    "```\n",
    "- **Librería [PRAW](https://github.com/praw-dev/praw/):** esta librería accede a la [API de Reddit](https://www.reddit.com/dev/api), la API oficial para interactuar con Reddit. Un posible endpoint sería https://www.reddit.com/r/Python.json, que nos proporciona los últimos posts del subreddit de Python, y el código python para hacer la misma petición sería:\n",
    "```\n",
    "subreddit = reddit.subreddit(\"Python\")\n",
    "```\n"
   ]
  },
  {
   "cell_type": "markdown",
   "metadata": {},
   "source": [
    "## Ejercicio 1\n",
    "\n",
    "Implementad una función que devuelva una lista con el nombre de las personas actualmente en el espacio consultando alguna de las APIs que se detallan en la siguiente [url](http://api.open-notify.org)."
   ]
  },
  {
   "cell_type": "markdown",
   "metadata": {},
   "source": [
    "**Respuesta**"
   ]
  },
  {
   "cell_type": "code",
   "execution_count": 1,
   "metadata": {},
   "outputs": [],
   "source": [
    "# Importamos la librería requests y json.\n",
    "import requests\n",
    "import json"
   ]
  },
  {
   "cell_type": "code",
   "execution_count": 2,
   "metadata": {},
   "outputs": [],
   "source": [
    "# Creamos la función.\n",
    "def get_people_space():\n",
    "    # Realizamos una petición GET a la API People in Space.\n",
    "    response = requests.get('http://api.open-notify.org/astros.json')\n",
    "    # Deserializamos el objeto json.\n",
    "    dict_response = json.loads(response.text)\n",
    "    \n",
    "    # Obtenemos los nombres mediante una list comprehension.\n",
    "    space_names_list = [person[\"name\"] for person in dict_response[\"people\"]]\n",
    "    \n",
    "    return space_names_list"
   ]
  },
  {
   "cell_type": "code",
   "execution_count": 3,
   "metadata": {},
   "outputs": [
    {
     "data": {
      "text/plain": [
       "['Sergey Ryzhikov',\n",
       " 'Kate Rubins',\n",
       " 'Sergey Kud-Sverchkov',\n",
       " 'Mike Hopkins',\n",
       " 'Victor Glover',\n",
       " 'Shannon Walker',\n",
       " 'Soichi Noguchi']"
      ]
     },
     "execution_count": 3,
     "metadata": {},
     "output_type": "execute_result"
    }
   ],
   "source": [
    "# Ejecutamos la función.\n",
    "get_people_space()"
   ]
  },
  {
   "cell_type": "markdown",
   "metadata": {},
   "source": [
    "## Ejercicio 2\n",
    "Queremos saber el número de crímenes violentos que se han producido en Reino Unido en una localización (latitud, longitud) y fecha concretas mediante la seguiente [url](https://data.police.uk/docs/method/crimes-at-location/). Implementad un conjunto de funciones para obtener el número de crimenes producidos en una determinada fecha en una determinada localización. \n",
    "\n",
    "- La primera función devolverá la latitud y longitud de una determinada dirección postal mediante la API de geolocalización de [google maps](https://pypi.org/project/googlemaps/1.0.2/). \n",
    "\n",
    "- La segunda función devolverá el número de crimenes producidos en una determinada fecha y en una determinada localización (latitud, longitud).  \n",
    "\n",
    "Usa ambas funciones para obtener el número de crimenes violentos en la dirección **Adelaide St, WC2N 4HZ, London, United Kingdom** en abril del 2018. \n",
    "\n",
    "**Nota**: Deberéis registraros a [Google Cloud Platform](https://developers.google.com/maps/documentation/javascript/get-api-key) para obtener las credenciales de la API de googlemaps."
   ]
  },
  {
   "cell_type": "markdown",
   "metadata": {},
   "source": [
    "**Respuesta**\n"
   ]
  },
  {
   "cell_type": "code",
   "execution_count": 4,
   "metadata": {},
   "outputs": [],
   "source": [
    "# Creamos la función que nos devuelva las coordenadas.\n",
    "def coords(address):\n",
    "    payload = {\"q\": address, \"format\": \"json\"}\n",
    "    # Realizamos una petición GET a la API Nominating de OpenStreetMap.\n",
    "    response = requests.get('http://nominatim.openstreetmap.org/search', params = payload)\n",
    "    # Deserializamos el objeto json.\n",
    "    dict_response = json.loads(response.text)\n",
    "    \n",
    "    # Obtenemos la latitud y la longitud.\n",
    "    try:\n",
    "        lat = dict_response[0][\"lat\"]\n",
    "        lon = dict_response[0][\"lon\"]\n",
    "    except:\n",
    "        print(\"No se han podido obtener las coordenadas\")\n",
    "\n",
    "    return lat, lon\n",
    "\n",
    "\n",
    "# Creamos la función que nos devuelva el número de crímenes.\n",
    "def get_num_crimes(lat, lon, date):\n",
    "    payload = {\"lat\": lat, \"lng\": lon, \"date\": date}\n",
    "    # Realizamos una petición GET a la API de la policia de UK.\n",
    "    response = requests.get('https://data.police.uk/api/crimes-at-location', params = payload)\n",
    "    # Deserializamos el objeto json.\n",
    "    dict_response = json.loads(response.text)\n",
    "    \n",
    "    # Obtenemos el número de crímenes.\n",
    "    num_crimes = len(dict_response)\n",
    "    \n",
    "    return num_crimes"
   ]
  },
  {
   "cell_type": "code",
   "execution_count": 5,
   "metadata": {},
   "outputs": [
    {
     "name": "stdout",
     "output_type": "stream",
     "text": [
      "El número de crímenes en las coordenadas (51.5091724, -0.1258542) a fecha de 2018-11 es de 19\n"
     ]
    }
   ],
   "source": [
    "# Probamos la función que obtiene las coordenadas.\n",
    "lat, lon = coords(\"Adelaide St, WC2N 4HZ, London, United Kingdom\")\n",
    "\n",
    "# Guardamos la fecha en una variable.\n",
    "date = '2018-11'\n",
    "\n",
    "# Probamos la función que nos devuelve el número de crímenes y guardamos el resultado en una variable para mostrarlo por pantalla.\n",
    "num_crimes = get_num_crimes(lat, lon, date)\n",
    "print(f\"El número de crímenes en las coordenadas ({lat}, {lon}) a fecha de {date} es de {num_crimes}\")"
   ]
  },
  {
   "cell_type": "markdown",
   "metadata": {},
   "source": [
    "## Ejercicio 3\n",
    "\n",
    "Queremos conocer los nombres más frecuentes de los recién nacidos en Barcelona por sexo entre los años 1996 y 2018. Implementad una función de dos parámetros (id: identificador del recurso, año: año de consulta), que devuelva una lista con el nombre más frecuente para niña y para niño en dicho año.  Usa la función para obtener lo siguiente: \n",
    "\n",
    "a) Una lista con el nombre más frecuente de los recién nacidos en Barcelona por sexo para cada uno de los años entre 1996 y 2018 (incluidos). \n",
    "\n",
    "b) Crear una lista ordenada de mayor a menor, a partir de la lista obtenida en el apartado a), según el número de veces que dicho nombre ha sido utilizado.\n",
    "\n",
    "\n",
    "Para realizar el ejercicio consultad el portal de datos abiertos del Ayuntamiento de Barcelona mediante la siguiente [url](https://opendata-ajuntament.barcelona.cat/es/). \n",
    "\n",
    "**Nota 1**: Consultad como realizar las consultas mediante la API en [la pestaña de Desarrolladores](https://opendata-ajuntament.barcelona.cat/es/desenvolupadors)\n",
    "\n",
    "**Nota 2**: Algunos nombres pueden contener espacios.  Deberéis eliminar dicho espacio para realizar el contaje correctamente.\n"
   ]
  },
  {
   "cell_type": "markdown",
   "metadata": {},
   "source": [
    "**Respuesta**"
   ]
  },
  {
   "cell_type": "code",
   "execution_count": 6,
   "metadata": {},
   "outputs": [],
   "source": [
    "# Creamos la función que dado dos parámetros(el id y el año) devuelva una lista con el nombre más popular para niña y para niño\n",
    "# de dicho año.\n",
    "def get_popular_names(resource_id, year):\n",
    "    # Serializamos el filtro para el año y el orden de popularidad como objeto json.\n",
    "    filter_year = json.dumps({\"Any\": year, \"Ordre\": 1})\n",
    "    # Creamos los parámetros de la petición.\n",
    "    payload = {\"resource_id\": resource_id, \"filters\": filter_year}\n",
    "    # Realizamos una petición GET a la API Nominating de OpenStreetMap.\n",
    "    response = requests.get('https://opendata-ajuntament.barcelona.cat/data/api/action/datastore_search', params = payload)\n",
    "    # Deserializamos el objeto json.\n",
    "    dict_response = json.loads(response.text)\n",
    "\n",
    "    # Obtenemos los nombres más populares utilizando una list comprehension.\n",
    "    popular_names = [name[\"Nom\"] for name in dict_response[\"result\"][\"records\"]]\n",
    "    \n",
    "    return popular_names"
   ]
  },
  {
   "cell_type": "code",
   "execution_count": 7,
   "metadata": {},
   "outputs": [],
   "source": [
    "# Guardamos en una variable el id del dataset de nombres de bebés.\n",
    "resource_id = \"e1b5dd1f-a88e-43eb-86d1-d3880d9a6718\""
   ]
  },
  {
   "cell_type": "code",
   "execution_count": 8,
   "metadata": {},
   "outputs": [
    {
     "data": {
      "text/plain": [
       "['EMMA', 'MARC']"
      ]
     },
     "execution_count": 8,
     "metadata": {},
     "output_type": "execute_result"
    }
   ],
   "source": [
    "# Probamos la función.\n",
    "get_popular_names(resource_id, 2018)"
   ]
  },
  {
   "cell_type": "code",
   "execution_count": 9,
   "metadata": {},
   "outputs": [
    {
     "name": "stdout",
     "output_type": "stream",
     "text": [
      "Los nombres más populares de niña entre 1996 y 2018 son: \n",
      " ['LAURA', 'MARIA', 'MARIA', 'MARIA', 'MARIA', 'MARIA', 'MARIA', 'MARIA', 'MARIA', 'LAIA', 'MARIA', 'LUCIA', 'MARTINA', 'MARTINA', 'MARTINA', 'MARTINA', 'JULIA', 'JULIA', 'LAIA', 'EMMA', 'JULIA', 'JULIA', 'EMMA']\n",
      "Los nombres más populares de niño entre 1996 y 2018 son: \n",
      " ['MARC', 'MARC', 'MARC', 'MARC', 'MARC', 'MARC', 'MARC', 'MARC', 'MARC', 'MARC', 'MARC', 'MARC', 'MARC', 'MARC', 'MARC', 'MARC', 'MARC', 'MARC', 'MARC', 'MARC', 'MARC', 'POL', 'MARC']\n"
     ]
    }
   ],
   "source": [
    "# Creamos una variable donde guardar el resultado de los nombres más frecuentes para cada sexo de todos los años requeridos.\n",
    "names_list_girls = []\n",
    "names_list_boys = []\n",
    "\n",
    "# Iteramos sobre los años y agregamos los nombres más populares llamando a la función a la lista anteriormente creada.\n",
    "for year in range(1996, 2019):\n",
    "    names_for_year = get_popular_names(resource_id, year)\n",
    "    names_list_girls.append(names_for_year[0])\n",
    "    names_list_boys.append(names_for_year[1])\n",
    "    \n",
    "# Mostramos el resultado.\n",
    "print(f\"Los nombres más populares de niña entre 1996 y 2018 son: \\n {names_list_girls}\")\n",
    "print(f\"Los nombres más populares de niño entre 1996 y 2018 son: \\n {names_list_boys}\")"
   ]
  },
  {
   "cell_type": "code",
   "execution_count": 10,
   "metadata": {},
   "outputs": [
    {
     "data": {
      "text/plain": [
       "MARIA      9\n",
       "JULIA      4\n",
       "MARTINA    4\n",
       "LAIA       2\n",
       "EMMA       2\n",
       "LUCIA      1\n",
       "LAURA      1\n",
       "dtype: int64"
      ]
     },
     "execution_count": 10,
     "metadata": {},
     "output_type": "execute_result"
    }
   ],
   "source": [
    "# Importamos la librería pandas.\n",
    "import pandas as pd\n",
    "\n",
    "# Convertimos la lista de nombres en una serie y utilizamos la función `value_counts` para ordenar y contar la frecuencia.\n",
    "pd.Series(names_list_girls).value_counts(sort = True)"
   ]
  },
  {
   "cell_type": "code",
   "execution_count": 11,
   "metadata": {},
   "outputs": [
    {
     "name": "stdout",
     "output_type": "stream",
     "text": [
      "Los nombres más populares para niña entre 1996 y 2018 ordenados de mayor a menor son: \n",
      " ['MARIA', 'JULIA', 'MARTINA', 'LAIA', 'EMMA', 'LUCIA', 'LAURA']\n",
      "Los nombres más populares para niño entre 1996 y 2018 ordenados de mayor a menor son: \n",
      " ['MARC', 'POL']\n"
     ]
    }
   ],
   "source": [
    "# Convertimos a lista y guardamos el resultado en una variable.\n",
    "list_popular_names_girls = pd.Series(names_list_girls).value_counts(sort = True).index.tolist()\n",
    "\n",
    "# Hacemos lo mismo con la lista de nombres de niño.\n",
    "list_popular_names_boys = pd.Series(names_list_boys).value_counts(sort = True).index.tolist()\n",
    "\n",
    "# Mostramos ambas listas.\n",
    "print(f\"Los nombres más populares para niña entre 1996 y 2018 ordenados de mayor a menor son: \\n {list_popular_names_girls}\")\n",
    "print(f\"Los nombres más populares para niño entre 1996 y 2018 ordenados de mayor a menor son: \\n {list_popular_names_boys}\")"
   ]
  },
  {
   "cell_type": "markdown",
   "metadata": {},
   "source": [
    "## Ejercicio opcional"
   ]
  },
  {
   "cell_type": "markdown",
   "metadata": {},
   "source": [
    "Programad una función que devuelva la fecha y hora de los 10 próximos pases de la estación espacial internacional ([ISS](http://api.open-notify.org)) sobre la Torre Eiffel  (especificada por su **longitud** y **latitud**). La función debe devolver una lista de 10 elementos, cada uno de los cuales debe ser una cadena de caracteres con la fecha y la hora de los pases."
   ]
  },
  {
   "cell_type": "markdown",
   "metadata": {},
   "source": [
    "**Respuesta**"
   ]
  },
  {
   "cell_type": "code",
   "execution_count": 12,
   "metadata": {},
   "outputs": [],
   "source": [
    "# Importamos la librería datetime para parsear el timestamp.\n",
    "from datetime import datetime"
   ]
  },
  {
   "cell_type": "code",
   "execution_count": 13,
   "metadata": {},
   "outputs": [],
   "source": [
    "# Creamos la función para obtener las pasadas de la ISS.\n",
    "def get_ISS_over_eiffel():\n",
    "    # Creamos variables con las coordenadas de la Torre Eiffel.\n",
    "    lat, lon = 48.858296, 2.294479\n",
    "    # Creamos los parámetros de la petición.\n",
    "    payload = {\"lat\": lat, \"lon\": lon, \"n\": 10}\n",
    "    # Realizamos una petición GET a la API International Space Station Pass Times.\n",
    "    response = requests.get('http://api.open-notify.org/iss-pass.json', params = payload)\n",
    "    # Deserializamos el objeto json.\n",
    "    dict_response = json.loads(response.text)\n",
    "    \n",
    "    # Obtenemos las fechas y las horas de los momentos en los que pasa la ISS sobre la Torre Eiffel.\n",
    "    dates_list = [datetime.fromtimestamp(iss_pass[\"risetime\"]).strftime(\"%d/%m/%Y, %H:%M:%S\") for iss_pass in dict_response[\"response\"]]\n",
    "    \n",
    "    return dates_list"
   ]
  },
  {
   "cell_type": "code",
   "execution_count": 14,
   "metadata": {},
   "outputs": [
    {
     "data": {
      "text/plain": [
       "['10/01/2021, 21:47:13',\n",
       " '10/01/2021, 23:21:45',\n",
       " '11/01/2021, 00:58:20',\n",
       " '11/01/2021, 02:35:24',\n",
       " '11/01/2021, 04:12:17',\n",
       " '11/01/2021, 05:49:23',\n",
       " '11/01/2021, 21:00:53',\n",
       " '11/01/2021, 22:34:20',\n",
       " '12/01/2021, 00:10:35',\n",
       " '12/01/2021, 01:47:38']"
      ]
     },
     "execution_count": 14,
     "metadata": {},
     "output_type": "execute_result"
    }
   ],
   "source": [
    "# Probamos la función con su resultado final.\n",
    "get_ISS_over_eiffel()"
   ]
  }
 ],
 "metadata": {
  "kernelspec": {
   "display_name": "Python 3",
   "language": "python",
   "name": "python3"
  },
  "language_info": {
   "codemirror_mode": {
    "name": "ipython",
    "version": 3
   },
   "file_extension": ".py",
   "mimetype": "text/x-python",
   "name": "python",
   "nbconvert_exporter": "python",
   "pygments_lexer": "ipython3",
   "version": "3.8.5"
  }
 },
 "nbformat": 4,
 "nbformat_minor": 4
}
