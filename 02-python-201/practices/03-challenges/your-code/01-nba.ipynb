{
 "cells": [
  {
   "cell_type": "markdown",
   "metadata": {},
   "source": [
    "# Programación 201\n",
    "\n",
    "# NBA player of the week"
   ]
  },
  {
   "cell_type": "markdown",
   "metadata": {},
   "source": [
    "### Ejercicio 1\n",
    "\n",
    "# Descripción y enunciado\n",
    "El objetivo de esta actividad es la gestión y preparación de datos. La gestión de datos es una parte muy importante de cualquier proceso de minería de datos, ya que los datos se deben preparar y preprocesar antes de iniciar el proceso de extracción de conocimiento.\n",
    "Esta tarea ilustra algunos de los procedimientos básicos con los que nos podemos encontrar para preparar los datos: analizar los tipos de datos, tranformar valores, detectar e eliminar outliers, hacer un muestreo, etcétera.\n",
    "\n",
    "# Fichero de datos\n",
    "El conjunto de datos con el que trabajaremos en esta actividad surge de la bases de datos disponibles en Kaggle . En concreto, los datos corresponden a los jugadores nombrados jugadores de la semana desde la temporada 1984-1985 hasta la temporada 2017-2018. Estos datos nos ofrecen múltiples posibilidades para consolidar los conocimientos y competencias de manipulación de datos, preprocesado y análisis descriptivo. El fichero `NBA_player_of_the_week.csv` se encuentra adjunto.\n",
    "\n",
    "\n",
    "# Ingesta de datos\n",
    "Actualmente el fichero se encuentra en la misma carpeta de datos RMD, está en adjunto. Se enviará nueva práctica similar con los datos de ingesta a través de scraping / API / base de datos para R y Python.\n",
    "\n",
    "\n",
    "# Valoraciones\n",
    "- se valorarán los trabajos por los detalles, no vale con el solo enviar un trozo de código, sino la explicación es fundamental\n",
    "- explicar además los resumen de cada sección (carga, preparación, EDA, limpieza, nuevos atributos, discretización, split train-test)\n",
    "- conclusiones y comparativas son los más importantes para comenzar con Data Mining.\n"
   ]
  },
  {
   "cell_type": "markdown",
   "metadata": {},
   "source": [
    "## 1. Cargar un juego de datos."
   ]
  },
  {
   "cell_type": "code",
   "execution_count": 1,
   "metadata": {},
   "outputs": [],
   "source": [
    "# Importamos librerías.\n",
    "import pandas as pd\n",
    "import numpy as np"
   ]
  },
  {
   "cell_type": "code",
   "execution_count": 2,
   "metadata": {},
   "outputs": [],
   "source": [
    "# Cargamos los datos del fichero en un dataframe.\n",
    "nba = pd.read_csv(\"NBA_player_of_the_week.csv\", header = 0)"
   ]
  },
  {
   "cell_type": "markdown",
   "metadata": {},
   "source": [
    "## 2. Descripción de los datos."
   ]
  },
  {
   "cell_type": "code",
   "execution_count": 3,
   "metadata": {},
   "outputs": [
    {
     "data": {
      "text/plain": [
       "pandas.core.frame.DataFrame"
      ]
     },
     "execution_count": 3,
     "metadata": {},
     "output_type": "execute_result"
    }
   ],
   "source": [
    "# Miramos el tipo de dato.\n",
    "type(nba)"
   ]
  },
  {
   "cell_type": "code",
   "execution_count": 4,
   "metadata": {},
   "outputs": [
    {
     "data": {
      "text/plain": [
       "Age                    int64\n",
       "Conference            object\n",
       "Date                  object\n",
       "Draft Year             int64\n",
       "Height                object\n",
       "Player                object\n",
       "Position              object\n",
       "Season                object\n",
       "Season short           int64\n",
       "Seasons in league      int64\n",
       "Team                  object\n",
       "Weight                object\n",
       "Real_value           float64\n",
       "dtype: object"
      ]
     },
     "execution_count": 4,
     "metadata": {},
     "output_type": "execute_result"
    }
   ],
   "source": [
    "# Miramos el tipo de dato.\n",
    "nba.dtypes"
   ]
  },
  {
   "cell_type": "code",
   "execution_count": 5,
   "metadata": {},
   "outputs": [
    {
     "name": "stdout",
     "output_type": "stream",
     "text": [
      "<class 'pandas.core.frame.DataFrame'>\n",
      "RangeIndex: 1145 entries, 0 to 1144\n",
      "Data columns (total 13 columns):\n",
      " #   Column             Non-Null Count  Dtype  \n",
      "---  ------             --------------  -----  \n",
      " 0   Age                1145 non-null   int64  \n",
      " 1   Conference         761 non-null    object \n",
      " 2   Date               1145 non-null   object \n",
      " 3   Draft Year         1145 non-null   int64  \n",
      " 4   Height             1145 non-null   object \n",
      " 5   Player             1145 non-null   object \n",
      " 6   Position           1145 non-null   object \n",
      " 7   Season             1145 non-null   object \n",
      " 8   Season short       1145 non-null   int64  \n",
      " 9   Seasons in league  1145 non-null   int64  \n",
      " 10  Team               1145 non-null   object \n",
      " 11  Weight             1145 non-null   object \n",
      " 12  Real_value         1145 non-null   float64\n",
      "dtypes: float64(1), int64(4), object(8)\n",
      "memory usage: 116.4+ KB\n"
     ]
    }
   ],
   "source": [
    "# Miramos el tipo de estructura.\n",
    "nba.info()"
   ]
  },
  {
   "cell_type": "code",
   "execution_count": 6,
   "metadata": {},
   "outputs": [
    {
     "data": {
      "text/html": [
       "<div>\n",
       "<style scoped>\n",
       "    .dataframe tbody tr th:only-of-type {\n",
       "        vertical-align: middle;\n",
       "    }\n",
       "\n",
       "    .dataframe tbody tr th {\n",
       "        vertical-align: top;\n",
       "    }\n",
       "\n",
       "    .dataframe thead th {\n",
       "        text-align: right;\n",
       "    }\n",
       "</style>\n",
       "<table border=\"1\" class=\"dataframe\">\n",
       "  <thead>\n",
       "    <tr style=\"text-align: right;\">\n",
       "      <th></th>\n",
       "      <th>Age</th>\n",
       "      <th>Conference</th>\n",
       "      <th>Date</th>\n",
       "      <th>Draft Year</th>\n",
       "      <th>Height</th>\n",
       "      <th>Player</th>\n",
       "      <th>Position</th>\n",
       "      <th>Season</th>\n",
       "      <th>Season short</th>\n",
       "      <th>Seasons in league</th>\n",
       "      <th>Team</th>\n",
       "      <th>Weight</th>\n",
       "      <th>Real_value</th>\n",
       "    </tr>\n",
       "  </thead>\n",
       "  <tbody>\n",
       "    <tr>\n",
       "      <th>0</th>\n",
       "      <td>29</td>\n",
       "      <td>NaN</td>\n",
       "      <td>Apr 14, 1985</td>\n",
       "      <td>1978</td>\n",
       "      <td>6-5</td>\n",
       "      <td>Micheal Ray Richardson</td>\n",
       "      <td>PG</td>\n",
       "      <td>1984-1985</td>\n",
       "      <td>1985</td>\n",
       "      <td>6</td>\n",
       "      <td>New Jersey Nets</td>\n",
       "      <td>189</td>\n",
       "      <td>1.0</td>\n",
       "    </tr>\n",
       "    <tr>\n",
       "      <th>1</th>\n",
       "      <td>23</td>\n",
       "      <td>NaN</td>\n",
       "      <td>Apr 7, 1985</td>\n",
       "      <td>1982</td>\n",
       "      <td>6-6</td>\n",
       "      <td>Derek Smith</td>\n",
       "      <td>SG</td>\n",
       "      <td>1984-1985</td>\n",
       "      <td>1985</td>\n",
       "      <td>2</td>\n",
       "      <td>Los Angeles Clippers</td>\n",
       "      <td>205</td>\n",
       "      <td>1.0</td>\n",
       "    </tr>\n",
       "    <tr>\n",
       "      <th>2</th>\n",
       "      <td>28</td>\n",
       "      <td>NaN</td>\n",
       "      <td>Apr 1, 1985</td>\n",
       "      <td>1979</td>\n",
       "      <td>6-6</td>\n",
       "      <td>Calvin Natt</td>\n",
       "      <td>F</td>\n",
       "      <td>1984-1985</td>\n",
       "      <td>1985</td>\n",
       "      <td>5</td>\n",
       "      <td>Denver Nuggets</td>\n",
       "      <td>220</td>\n",
       "      <td>1.0</td>\n",
       "    </tr>\n",
       "    <tr>\n",
       "      <th>3</th>\n",
       "      <td>37</td>\n",
       "      <td>NaN</td>\n",
       "      <td>Mar 24, 1985</td>\n",
       "      <td>1969</td>\n",
       "      <td>7-2</td>\n",
       "      <td>Kareem Abdul-Jabbar</td>\n",
       "      <td>C</td>\n",
       "      <td>1984-1985</td>\n",
       "      <td>1985</td>\n",
       "      <td>15</td>\n",
       "      <td>Los Angeles Lakers</td>\n",
       "      <td>225</td>\n",
       "      <td>1.0</td>\n",
       "    </tr>\n",
       "    <tr>\n",
       "      <th>4</th>\n",
       "      <td>28</td>\n",
       "      <td>NaN</td>\n",
       "      <td>Mar 17, 1985</td>\n",
       "      <td>1978</td>\n",
       "      <td>6-9</td>\n",
       "      <td>Larry Bird</td>\n",
       "      <td>SF</td>\n",
       "      <td>1984-1985</td>\n",
       "      <td>1985</td>\n",
       "      <td>5</td>\n",
       "      <td>Boston Celtics</td>\n",
       "      <td>220</td>\n",
       "      <td>1.0</td>\n",
       "    </tr>\n",
       "  </tbody>\n",
       "</table>\n",
       "</div>"
      ],
      "text/plain": [
       "   Age Conference          Date  Draft Year Height                  Player  \\\n",
       "0   29        NaN  Apr 14, 1985        1978    6-5  Micheal Ray Richardson   \n",
       "1   23        NaN   Apr 7, 1985        1982    6-6             Derek Smith   \n",
       "2   28        NaN   Apr 1, 1985        1979    6-6             Calvin Natt   \n",
       "3   37        NaN  Mar 24, 1985        1969    7-2     Kareem Abdul-Jabbar   \n",
       "4   28        NaN  Mar 17, 1985        1978    6-9              Larry Bird   \n",
       "\n",
       "  Position     Season  Season short  Seasons in league                  Team  \\\n",
       "0       PG  1984-1985          1985                  6       New Jersey Nets   \n",
       "1       SG  1984-1985          1985                  2  Los Angeles Clippers   \n",
       "2        F  1984-1985          1985                  5        Denver Nuggets   \n",
       "3        C  1984-1985          1985                 15    Los Angeles Lakers   \n",
       "4       SF  1984-1985          1985                  5        Boston Celtics   \n",
       "\n",
       "  Weight  Real_value  \n",
       "0    189         1.0  \n",
       "1    205         1.0  \n",
       "2    220         1.0  \n",
       "3    225         1.0  \n",
       "4    220         1.0  "
      ]
     },
     "execution_count": 6,
     "metadata": {},
     "output_type": "execute_result"
    }
   ],
   "source": [
    "# Primeros resultados.\n",
    "nba.head()"
   ]
  },
  {
   "cell_type": "code",
   "execution_count": 7,
   "metadata": {},
   "outputs": [
    {
     "data": {
      "text/plain": [
       "Index(['Age', 'Conference', 'Date', 'Draft Year', 'Height', 'Player',\n",
       "       'Position', 'Season', 'Season short', 'Seasons in league', 'Team',\n",
       "       'Weight', 'Real_value'],\n",
       "      dtype='object')"
      ]
     },
     "execution_count": 7,
     "metadata": {},
     "output_type": "execute_result"
    }
   ],
   "source": [
    "# Extraemos el listado de las variables (columnas).\n",
    "nba.columns"
   ]
  },
  {
   "cell_type": "code",
   "execution_count": 8,
   "metadata": {},
   "outputs": [
    {
     "data": {
      "text/plain": [
       "array([   0,    1,    2, ..., 1142, 1143, 1144], dtype=int64)"
      ]
     },
     "execution_count": 8,
     "metadata": {},
     "output_type": "execute_result"
    }
   ],
   "source": [
    "# Extraemos las etiquetas de las filas.\n",
    "nba.index.values"
   ]
  },
  {
   "cell_type": "markdown",
   "metadata": {},
   "source": [
    "# 3. Preparación de la base de datos.\n",
    "## 3.1. Asignar NA a los valores ausentes en los datos de Conference."
   ]
  },
  {
   "cell_type": "code",
   "execution_count": 9,
   "metadata": {},
   "outputs": [
    {
     "data": {
      "text/plain": [
       "NaN     384\n",
       "East    381\n",
       "West    380\n",
       "Name: Conference, dtype: int64"
      ]
     },
     "execution_count": 9,
     "metadata": {},
     "output_type": "execute_result"
    }
   ],
   "source": [
    "# Comprobamos los valores del atributo `Conference`.\n",
    "nba['Conference'].value_counts(dropna = False)"
   ]
  },
  {
   "cell_type": "code",
   "execution_count": 10,
   "metadata": {},
   "outputs": [
    {
     "data": {
      "text/plain": [
       "dtype('O')"
      ]
     },
     "execution_count": 10,
     "metadata": {},
     "output_type": "execute_result"
    }
   ],
   "source": [
    "# Comprobamos el tipo de variable que es el atributo `Conference`.\n",
    "nba['Conference'].dtypes"
   ]
  },
  {
   "cell_type": "markdown",
   "metadata": {},
   "source": [
    "En el caso de que hubiera valores ausentes, podríamos aplicar el siguiente código para asignar a los valores ausentes en los datos de `Conference`."
   ]
  },
  {
   "cell_type": "code",
   "execution_count": 11,
   "metadata": {},
   "outputs": [],
   "source": [
    "# Asignar NA a los valores ausentes en los datos de Conference.\n",
    "nba.loc[nba['Conference'] == \"\", 'Conference'] = np.nan"
   ]
  },
  {
   "cell_type": "code",
   "execution_count": 12,
   "metadata": {},
   "outputs": [
    {
     "data": {
      "text/plain": [
       "array([nan, 'East', 'West'], dtype=object)"
      ]
     },
     "execution_count": 12,
     "metadata": {},
     "output_type": "execute_result"
    }
   ],
   "source": [
    "# Comprobamos los valores distintos dentro de la variable `Conference`.\n",
    "nba['Conference'].unique()"
   ]
  },
  {
   "cell_type": "markdown",
   "metadata": {},
   "source": [
    "## 3.2. Transformar los datos de Conference en variable categórica y mostrar la tabla de frecuencia."
   ]
  },
  {
   "cell_type": "code",
   "execution_count": 13,
   "metadata": {},
   "outputs": [],
   "source": [
    "# Realizamos la factorización del atributo.\n",
    "nba['Conference'] = nba['Conference'].astype('category')"
   ]
  },
  {
   "cell_type": "code",
   "execution_count": 14,
   "metadata": {},
   "outputs": [
    {
     "data": {
      "text/plain": [
       "CategoricalDtype(categories=['East', 'West'], ordered=False)"
      ]
     },
     "execution_count": 14,
     "metadata": {},
     "output_type": "execute_result"
    }
   ],
   "source": [
    "# Comprobamos los niveles.\n",
    "nba['Conference'].dtypes"
   ]
  },
  {
   "cell_type": "code",
   "execution_count": 15,
   "metadata": {},
   "outputs": [
    {
     "data": {
      "text/plain": [
       "NaN     384\n",
       "East    381\n",
       "West    380\n",
       "Name: Conference, dtype: int64"
      ]
     },
     "execution_count": 15,
     "metadata": {},
     "output_type": "execute_result"
    }
   ],
   "source": [
    "# Mostramos la tabla de frecuencias absolutas.\n",
    "nba['Conference'].value_counts(dropna = False)"
   ]
  },
  {
   "cell_type": "markdown",
   "metadata": {},
   "source": [
    "## 3.3. Comprobar que la variable tiene xxx valores ausentes."
   ]
  },
  {
   "cell_type": "code",
   "execution_count": 16,
   "metadata": {},
   "outputs": [
    {
     "data": {
      "text/plain": [
       "384"
      ]
     },
     "execution_count": 16,
     "metadata": {},
     "output_type": "execute_result"
    }
   ],
   "source": [
    "# Sumamos todos los NAs en la variable conf.\n",
    "nba['Conference'].isnull().sum()"
   ]
  },
  {
   "cell_type": "markdown",
   "metadata": {},
   "source": [
    "## 3.4. Transformar las variables Height, Player, Position, Season, Team y Weight en variables categóricas."
   ]
  },
  {
   "cell_type": "code",
   "execution_count": 17,
   "metadata": {},
   "outputs": [],
   "source": [
    "# Realizamos la factorización de los atributos.\n",
    "nba['Height'] = nba['Height'].astype(\"category\")\n",
    "nba['Player'] = nba['Player'].astype(\"category\")\n",
    "nba['Position'] = nba['Position'].astype(\"category\")\n",
    "nba['Season'] = nba['Season'].astype(\"category\")\n",
    "nba['Team'] = nba['Team'].astype(\"category\")\n",
    "nba['Weight'] = nba['Weight'].astype(\"category\")"
   ]
  },
  {
   "cell_type": "markdown",
   "metadata": {},
   "source": [
    "## 3.5. Comprobar que estas variables no tienen valores perdidos."
   ]
  },
  {
   "cell_type": "code",
   "execution_count": 18,
   "metadata": {},
   "outputs": [
    {
     "data": {
      "text/plain": [
       "Height      0\n",
       "Player      0\n",
       "Position    0\n",
       "Season      0\n",
       "Team        0\n",
       "Weight      0\n",
       "dtype: int64"
      ]
     },
     "execution_count": 18,
     "metadata": {},
     "output_type": "execute_result"
    }
   ],
   "source": [
    "# Sumamos todos los NAs existentes en cada una de las columnas.\n",
    "nba[['Height', 'Player', 'Position', 'Season', 'Team', 'Weight']].isnull().sum()"
   ]
  },
  {
   "cell_type": "markdown",
   "metadata": {},
   "source": [
    "## 3.6. Calcular el número de años que pasan entre que salio el jugador elegido en el draft y la temporada en la que fue jugador de la semana. Denomina la variable tiempo."
   ]
  },
  {
   "cell_type": "code",
   "execution_count": 19,
   "metadata": {},
   "outputs": [
    {
     "data": {
      "text/plain": [
       "0     7\n",
       "1     3\n",
       "2     6\n",
       "3    16\n",
       "4     7\n",
       "Name: Tiempo, dtype: int64"
      ]
     },
     "execution_count": 19,
     "metadata": {},
     "output_type": "execute_result"
    }
   ],
   "source": [
    "# Operamos entre columnas y guardamos el resultado en una nueva variable.\n",
    "nba['Tiempo'] =  nba['Season short'] - nba['Draft Year']\n",
    "\n",
    "# Motramos los primeros resultados de la nueva variable para comprobar que se ha creado correctamente.\n",
    "nba['Tiempo'].head()"
   ]
  },
  {
   "cell_type": "markdown",
   "metadata": {},
   "source": [
    "## 3.7. ¿Cual es el número de años que más veces se repite entre que salen elegidos en el draft y se proclaman mejores jugadores? (moda de la variable tiempo)"
   ]
  },
  {
   "cell_type": "code",
   "execution_count": 20,
   "metadata": {},
   "outputs": [
    {
     "data": {
      "text/plain": [
       "0    7\n",
       "dtype: int64"
      ]
     },
     "execution_count": 20,
     "metadata": {},
     "output_type": "execute_result"
    }
   ],
   "source": [
    "# Calculamos la moda del atributo `Tiempo`.\n",
    "nba['Tiempo'].mode()"
   ]
  },
  {
   "cell_type": "markdown",
   "metadata": {},
   "source": [
    "## 3.8. La altura de los jugadores está expresada en pies (aquellas con guión) y cm. Convertir la altura expresada en pies a centimetros [https://www.piesametros.info/](https://www.piesametros.info/). Posteriormente, eliminar el texto “cm” de los datos de tipo altura y convertir la variable en numérica. Calcular media, desviación típica y boxplot."
   ]
  },
  {
   "cell_type": "code",
   "execution_count": 21,
   "metadata": {},
   "outputs": [],
   "source": [
    "# Pasamos el atributo a tipo character.\n",
    "nba['Height'] = nba['Height'].astype(\"str\")\n",
    "\n",
    "\n",
    "# Creamos las variables de conversión.\n",
    "inches_in_a_feet = 12\n",
    "cm_in_a_inch = 2.54\n",
    "\n",
    "\n",
    "# Iteramos sobre la columna altura a lo largo de todas sus filas.\n",
    "for row in range(len(nba['Height'])):\n",
    "    if \"-\" in nba['Height'][row]:\n",
    "        partes = nba['Height'][row].split(\"-\")\n",
    "        nba.loc[row, 'Height'] = (int(partes[0]) * inches_in_a_feet * cm_in_a_inch) + (int(partes[1]) * cm_in_a_inch)\n",
    "    elif \"cm\" in nba['Height'][row]:\n",
    "        nba.loc[row, 'Height'] = nba['Height'][row].replace(\"cm\", \"\")\n",
    "\n",
    "\n",
    "# Pasamos el atributo a tipo numeric.\n",
    "nba['Height'] = pd.to_numeric(nba['Height'])"
   ]
  },
  {
   "cell_type": "code",
   "execution_count": 22,
   "metadata": {},
   "outputs": [
    {
     "data": {
      "text/plain": [
       "0       195.58\n",
       "1       198.12\n",
       "2       198.12\n",
       "3       218.44\n",
       "4       205.74\n",
       "         ...  \n",
       "1140    196.00\n",
       "1141    193.00\n",
       "1142    211.00\n",
       "1143    211.00\n",
       "1144    196.00\n",
       "Name: Height, Length: 1145, dtype: float64"
      ]
     },
     "execution_count": 22,
     "metadata": {},
     "output_type": "execute_result"
    }
   ],
   "source": [
    "# Mostramos la columna para comprobar el cambio.\n",
    "nba['Height']"
   ]
  },
  {
   "cell_type": "code",
   "execution_count": 23,
   "metadata": {},
   "outputs": [
    {
     "data": {
      "text/plain": [
       "201.02310917030567"
      ]
     },
     "execution_count": 23,
     "metadata": {},
     "output_type": "execute_result"
    }
   ],
   "source": [
    "# Calculamos la media de la Altura.\n",
    "nba['Height'].mean()"
   ]
  },
  {
   "cell_type": "code",
   "execution_count": 24,
   "metadata": {},
   "outputs": [
    {
     "data": {
      "text/plain": [
       "9.410947284208344"
      ]
     },
     "execution_count": 24,
     "metadata": {},
     "output_type": "execute_result"
    }
   ],
   "source": [
    "# Calculamos la desviación típica de la Altura.\n",
    "nba['Height'].std()"
   ]
  },
  {
   "cell_type": "code",
   "execution_count": 25,
   "metadata": {},
   "outputs": [
    {
     "data": {
      "text/plain": [
       "<AxesSubplot:>"
      ]
     },
     "execution_count": 25,
     "metadata": {},
     "output_type": "execute_result"
    },
    {
     "data": {
      "image/png": "[encoded data removed]",
      "text/plain": [
       "<Figure size 432x288 with 1 Axes>"
      ]
     },
     "metadata": {
      "needs_background": "light"
     },
     "output_type": "display_data"
    }
   ],
   "source": [
    "# Visualizamos el boxplot de la columna.\n",
    "nba.boxplot(column = \"Height\")"
   ]
  },
  {
   "cell_type": "markdown",
   "metadata": {},
   "source": [
    "## 3.9. El peso de los jugadores está expresada en libras y kg. Convertir el peso expresado en kgs en libras [https://www.metric-conversions.org/es/peso/kilogramos-a-libras.htm](https://www.metric-conversions.org/es/peso/kilogramos-a-libras.htm). Convertir la variable en numérica.Calcular media, desviación típica y boxplot."
   ]
  },
  {
   "cell_type": "code",
   "execution_count": 26,
   "metadata": {},
   "outputs": [],
   "source": [
    "# Pasamos el atributo a tipo character.\n",
    "nba['Weight'] = nba['Weight'].astype(\"str\")\n",
    "\n",
    "\n",
    "# Creamos la variable de conversión.\n",
    "one_kg_in_lb = 2.204623\n",
    "\n",
    "\n",
    "# Iteramos sobre la columna peso a lo largo de todas sus filas.\n",
    "for row in range(len(nba['Weight'])):\n",
    "    if \"kg\" in nba['Weight'][row]:\n",
    "        nba.loc[row, 'Weight'] = int(nba['Weight'][row].replace(\"kg\", \"\")) *  one_kg_in_lb\n",
    "\n",
    "\n",
    "# Pasamos el atributo a tipo numeric.\n",
    "nba['Weight'] = pd.to_numeric(nba['Weight'])"
   ]
  },
  {
   "cell_type": "code",
   "execution_count": 27,
   "metadata": {},
   "outputs": [
    {
     "data": {
      "text/plain": [
       "0       189.000000\n",
       "1       205.000000\n",
       "2       220.000000\n",
       "3       225.000000\n",
       "4       220.000000\n",
       "           ...    \n",
       "1140    220.462300\n",
       "1141    209.439185\n",
       "1142    268.964006\n",
       "1143    222.666923\n",
       "1144    220.462300\n",
       "Name: Weight, Length: 1145, dtype: float64"
      ]
     },
     "execution_count": 27,
     "metadata": {},
     "output_type": "execute_result"
    }
   ],
   "source": [
    "# Mostramos la columna para comprobar el cambio.\n",
    "nba['Weight']"
   ]
  },
  {
   "cell_type": "code",
   "execution_count": 28,
   "metadata": {},
   "outputs": [
    {
     "data": {
      "text/plain": [
       "226.00391139388645"
      ]
     },
     "execution_count": 28,
     "metadata": {},
     "output_type": "execute_result"
    }
   ],
   "source": [
    "# Calculamos la media del Peso.\n",
    "nba['Weight'].mean()"
   ]
  },
  {
   "cell_type": "code",
   "execution_count": 29,
   "metadata": {},
   "outputs": [
    {
     "data": {
      "text/plain": [
       "31.577685191009163"
      ]
     },
     "execution_count": 29,
     "metadata": {},
     "output_type": "execute_result"
    }
   ],
   "source": [
    "# Calculamos la desviación típica del Peso.\n",
    "nba['Weight'].std()"
   ]
  },
  {
   "cell_type": "code",
   "execution_count": 30,
   "metadata": {},
   "outputs": [
    {
     "data": {
      "text/plain": [
       "<AxesSubplot:>"
      ]
     },
     "execution_count": 30,
     "metadata": {},
     "output_type": "execute_result"
    },
    {
     "data": {
      "image/png": "[encoded data removed]",
      "text/plain": [
       "<Figure size 432x288 with 1 Axes>"
      ]
     },
     "metadata": {
      "needs_background": "light"
     },
     "output_type": "display_data"
    }
   ],
   "source": [
    "# Visualizamos el boxplot de la columna.\n",
    "nba.boxplot(column = \"Weight\")"
   ]
  },
  {
   "cell_type": "markdown",
   "metadata": {},
   "source": [
    "# 4. Información sobre posiciones en el campo y equipos.\n",
    "\n",
    "## 4.1. Fusionar las categorias de posición en el campo F,F-C y FC en la categoría genérica Forward. Fusionar las categorias G,G-F y GF en la categoria genérica Guard. Renombrar la categoría ‘PG’ como ‘Point Guard’, ‘SG’ como ‘Shooting Guard’, ‘SF’ como ‘Small Forward’, ‘PF’ como ‘Power Forward’ y ‘C’ como ‘Center’."
   ]
  },
  {
   "cell_type": "code",
   "execution_count": 31,
   "metadata": {},
   "outputs": [],
   "source": [
    "# Pasamos el atributo a tipo character.\n",
    "nba['Position'] = nba['Position'].astype(\"str\")\n",
    "\n",
    "# Fusionamos las categorías \"F\", \"F-C\", \"FC\" en \"Forward\"\n",
    "nba.loc[nba['Position'].isin(['F', 'F-C', 'FC']), 'Position'] = \"Forward\"\n",
    "\n",
    "# Fusionamos las categorías \"G\", \"G-F\", \"GF\" en \"Guard\"\n",
    "nba.loc[nba['Position'].isin(['G', 'G-F', 'GF']), 'Position'] = \"Guard\"\n",
    "\n",
    "# Renombramos la categoría \"PG\" como \"Point Guard\".\n",
    "nba.loc[nba['Position'] == 'PG', 'Position'] = \"Point Guard\"\n",
    "\n",
    "# Renombramos la categoría \"SG\" como \"Shooting Guard\".\n",
    "nba.loc[nba['Position'] == 'SG', 'Position'] = \"Shooting Guard\"\n",
    "\n",
    "# Renombramos la categoría \"SF\" como \"Small Forward\".\n",
    "nba.loc[nba['Position'] == 'SF', 'Position'] = \"Small Forward\"\n",
    "\n",
    "# Renombramos la categoría \"PF\" como \"Power Forward\".\n",
    "nba.loc[nba['Position'] == 'PF', 'Position'] = \"Power Forward\"\n",
    "\n",
    "# Renombramos la categoría \"C\" como \"Center\".\n",
    "nba.loc[nba['Position'] == 'C', 'Position'] = \"Center\""
   ]
  },
  {
   "cell_type": "code",
   "execution_count": 32,
   "metadata": {},
   "outputs": [
    {
     "data": {
      "text/plain": [
       "Guard             228\n",
       "Forward           217\n",
       "Shooting Guard    164\n",
       "Center            158\n",
       "Power Forward     139\n",
       "Point Guard       120\n",
       "Small Forward     119\n",
       "Name: Position, dtype: int64"
      ]
     },
     "execution_count": 32,
     "metadata": {},
     "output_type": "execute_result"
    }
   ],
   "source": [
    "# Mostramos la columna con un `value_counts` para comprobar el cambio.\n",
    "nba['Position'].value_counts()"
   ]
  },
  {
   "cell_type": "markdown",
   "metadata": {},
   "source": [
    "## 4.2. ¿En que posición ha sido más veces los jugadores de la semana nombrados?"
   ]
  },
  {
   "cell_type": "code",
   "execution_count": 33,
   "metadata": {},
   "outputs": [
    {
     "data": {
      "text/plain": [
       "0    Guard\n",
       "dtype: object"
      ]
     },
     "execution_count": 33,
     "metadata": {},
     "output_type": "execute_result"
    }
   ],
   "source": [
    "# Calculamos la moda de la columna Position.\n",
    "nba['Position'].mode()"
   ]
  },
  {
   "cell_type": "markdown",
   "metadata": {},
   "source": [
    "## 4.3. ¿Cuántos equipos distintos hay?"
   ]
  },
  {
   "cell_type": "code",
   "execution_count": 34,
   "metadata": {},
   "outputs": [
    {
     "data": {
      "text/plain": [
       "0"
      ]
     },
     "execution_count": 34,
     "metadata": {},
     "output_type": "execute_result"
    }
   ],
   "source": [
    "# Comprobamos los NAs para que en el caso de haberlos no considerarlos como un equipo más.\n",
    "nba['Team'].isnull().sum()"
   ]
  },
  {
   "cell_type": "code",
   "execution_count": 35,
   "metadata": {},
   "outputs": [
    {
     "data": {
      "text/plain": [
       "35"
      ]
     },
     "execution_count": 35,
     "metadata": {},
     "output_type": "execute_result"
    }
   ],
   "source": [
    "# Calculamos los valores únicos y le aplicamos un len.\n",
    "len(nba['Team'].unique())"
   ]
  },
  {
   "cell_type": "markdown",
   "metadata": {},
   "source": [
    "## 4.4. ¿Cuáles son los cinco equipos que más veces han sido nombrados sus jugadores como jugador de la semana?"
   ]
  },
  {
   "cell_type": "code",
   "execution_count": 36,
   "metadata": {},
   "outputs": [
    {
     "data": {
      "text/plain": [
       "Los Angeles Lakers     71\n",
       "San Antonio Spurs      61\n",
       "Cleveland Cavaliers    59\n",
       "Miami Heat             57\n",
       "Houston Rockets        56\n",
       "Name: Team, dtype: int64"
      ]
     },
     "execution_count": 36,
     "metadata": {},
     "output_type": "execute_result"
    }
   ],
   "source": [
    "# Calculamos la tabla de frecuencias de los equipos, que ya vienen por defecto ordenadas de mayor a menor si usamos value_counts.\n",
    "five_best_teams = nba['Team'].value_counts() \n",
    "\n",
    "# Mostramos los cinco equipos.\n",
    "five_best_teams[0:5]"
   ]
  },
  {
   "cell_type": "markdown",
   "metadata": {},
   "source": [
    "# 5. Información sobre jugadores. Estadísticos descriptivos.\n",
    "\n",
    "## 5.1. Crear una base datos denominada nba.unique en la que no se repita el nombre de ningún jugador.Trabajar a partir de ahora con esta base de datos."
   ]
  },
  {
   "cell_type": "code",
   "execution_count": 37,
   "metadata": {},
   "outputs": [
    {
     "data": {
      "text/plain": [
       "274"
      ]
     },
     "execution_count": 37,
     "metadata": {},
     "output_type": "execute_result"
    }
   ],
   "source": [
    "# Comprobamos cuántos valores únicos hay en la columna \"Player\".\n",
    "len(nba['Player'].unique())"
   ]
  },
  {
   "cell_type": "code",
   "execution_count": 38,
   "metadata": {},
   "outputs": [],
   "source": [
    "# Utilizamos la función `drop_duplicates` para crear el nuevo dataframe sin los jugadores repetidos.\n",
    "nba_unique = nba.drop_duplicates(subset = \"Player\")"
   ]
  },
  {
   "cell_type": "code",
   "execution_count": 39,
   "metadata": {},
   "outputs": [
    {
     "data": {
      "text/plain": [
       "274"
      ]
     },
     "execution_count": 39,
     "metadata": {},
     "output_type": "execute_result"
    }
   ],
   "source": [
    "# Comprobamos que el número de filas del nuevo dataframe coincide con los valores únicos de la columna \"Player\" calculados \n",
    "# anteriormente.\n",
    "len(nba_unique)"
   ]
  },
  {
   "cell_type": "markdown",
   "metadata": {},
   "source": [
    "## 5.2. Listar el nombre de los 10 jugadores más bajos que han sido nombrados alguna vez jugadores de la semana. No debe repetirse ningún nombre."
   ]
  },
  {
   "cell_type": "code",
   "execution_count": 40,
   "metadata": {},
   "outputs": [],
   "source": [
    "# Ordenamos el dataframe con la función `sort_values` por altura.\n",
    "nba_ordered_height_smallest = nba_unique.sort_values(by = 'Height')"
   ]
  },
  {
   "cell_type": "code",
   "execution_count": 41,
   "metadata": {},
   "outputs": [
    {
     "data": {
      "text/html": [
       "<div>\n",
       "<style scoped>\n",
       "    .dataframe tbody tr th:only-of-type {\n",
       "        vertical-align: middle;\n",
       "    }\n",
       "\n",
       "    .dataframe tbody tr th {\n",
       "        vertical-align: top;\n",
       "    }\n",
       "\n",
       "    .dataframe thead th {\n",
       "        text-align: right;\n",
       "    }\n",
       "</style>\n",
       "<table border=\"1\" class=\"dataframe\">\n",
       "  <thead>\n",
       "    <tr style=\"text-align: right;\">\n",
       "      <th></th>\n",
       "      <th>Player</th>\n",
       "      <th>Height</th>\n",
       "    </tr>\n",
       "  </thead>\n",
       "  <tbody>\n",
       "    <tr>\n",
       "      <th>967</th>\n",
       "      <td>Isaiah Thomas</td>\n",
       "      <td>175.26</td>\n",
       "    </tr>\n",
       "    <tr>\n",
       "      <th>893</th>\n",
       "      <td>Nate Robinson</td>\n",
       "      <td>175.26</td>\n",
       "    </tr>\n",
       "    <tr>\n",
       "      <th>110</th>\n",
       "      <td>Michael Adams</td>\n",
       "      <td>177.80</td>\n",
       "    </tr>\n",
       "    <tr>\n",
       "      <th>858</th>\n",
       "      <td>Ty Lawson</td>\n",
       "      <td>180.34</td>\n",
       "    </tr>\n",
       "    <tr>\n",
       "      <th>273</th>\n",
       "      <td>Terrell Brandon</td>\n",
       "      <td>180.34</td>\n",
       "    </tr>\n",
       "    <tr>\n",
       "      <th>125</th>\n",
       "      <td>Tim Hardaway</td>\n",
       "      <td>182.88</td>\n",
       "    </tr>\n",
       "    <tr>\n",
       "      <th>219</th>\n",
       "      <td>Kenny Anderson</td>\n",
       "      <td>182.88</td>\n",
       "    </tr>\n",
       "    <tr>\n",
       "      <th>278</th>\n",
       "      <td>Allen Iverson</td>\n",
       "      <td>182.88</td>\n",
       "    </tr>\n",
       "    <tr>\n",
       "      <th>586</th>\n",
       "      <td>Chris Paul</td>\n",
       "      <td>182.88</td>\n",
       "    </tr>\n",
       "    <tr>\n",
       "      <th>1014</th>\n",
       "      <td>J.J. Barea</td>\n",
       "      <td>182.88</td>\n",
       "    </tr>\n",
       "  </tbody>\n",
       "</table>\n",
       "</div>"
      ],
      "text/plain": [
       "               Player  Height\n",
       "967     Isaiah Thomas  175.26\n",
       "893     Nate Robinson  175.26\n",
       "110     Michael Adams  177.80\n",
       "858         Ty Lawson  180.34\n",
       "273   Terrell Brandon  180.34\n",
       "125      Tim Hardaway  182.88\n",
       "219    Kenny Anderson  182.88\n",
       "278     Allen Iverson  182.88\n",
       "586        Chris Paul  182.88\n",
       "1014       J.J. Barea  182.88"
      ]
     },
     "execution_count": 41,
     "metadata": {},
     "output_type": "execute_result"
    }
   ],
   "source": [
    "# Del dataframe ordeado cogemos la columna Player y Height y mostramos los diez primeros, que se corresponderán con los diez\n",
    "# jugadores más bajos.\n",
    "nba_ordered_height_smallest[['Player', 'Height']].head(10)"
   ]
  },
  {
   "cell_type": "markdown",
   "metadata": {},
   "source": [
    "## 5.3. Listar el nombre de los 10 jugadores más altos que han sido nombrados y mostrar su altura. No debe repetirse ningún nombre."
   ]
  },
  {
   "cell_type": "code",
   "execution_count": 42,
   "metadata": {},
   "outputs": [],
   "source": [
    "# Ordenamos el dataframe con la función `sort_values` por altura, añadiendo un parámetro para cambiar el orden.\n",
    "nba_ordered_height_tallest = nba_unique.sort_values(by = 'Height', ascending = False)"
   ]
  },
  {
   "cell_type": "code",
   "execution_count": 43,
   "metadata": {},
   "outputs": [
    {
     "data": {
      "text/html": [
       "<div>\n",
       "<style scoped>\n",
       "    .dataframe tbody tr th:only-of-type {\n",
       "        vertical-align: middle;\n",
       "    }\n",
       "\n",
       "    .dataframe tbody tr th {\n",
       "        vertical-align: top;\n",
       "    }\n",
       "\n",
       "    .dataframe thead th {\n",
       "        text-align: right;\n",
       "    }\n",
       "</style>\n",
       "<table border=\"1\" class=\"dataframe\">\n",
       "  <thead>\n",
       "    <tr style=\"text-align: right;\">\n",
       "      <th></th>\n",
       "      <th>Player</th>\n",
       "      <th>Height</th>\n",
       "    </tr>\n",
       "  </thead>\n",
       "  <tbody>\n",
       "    <tr>\n",
       "      <th>486</th>\n",
       "      <td>Yao Ming</td>\n",
       "      <td>228.60</td>\n",
       "    </tr>\n",
       "    <tr>\n",
       "      <th>236</th>\n",
       "      <td>Rik Smits</td>\n",
       "      <td>223.52</td>\n",
       "    </tr>\n",
       "    <tr>\n",
       "      <th>1139</th>\n",
       "      <td>Kristaps Porzingis</td>\n",
       "      <td>221.00</td>\n",
       "    </tr>\n",
       "    <tr>\n",
       "      <th>256</th>\n",
       "      <td>Arvydas Sabonis</td>\n",
       "      <td>220.98</td>\n",
       "    </tr>\n",
       "    <tr>\n",
       "      <th>483</th>\n",
       "      <td>Zydrunas Ilgauskas</td>\n",
       "      <td>220.98</td>\n",
       "    </tr>\n",
       "    <tr>\n",
       "      <th>3</th>\n",
       "      <td>Kareem Abdul-Jabbar</td>\n",
       "      <td>218.44</td>\n",
       "    </tr>\n",
       "    <tr>\n",
       "      <th>188</th>\n",
       "      <td>Dikembe Mutombo</td>\n",
       "      <td>218.44</td>\n",
       "    </tr>\n",
       "    <tr>\n",
       "      <th>234</th>\n",
       "      <td>Vlade Divac</td>\n",
       "      <td>215.90</td>\n",
       "    </tr>\n",
       "    <tr>\n",
       "      <th>115</th>\n",
       "      <td>David Robinson</td>\n",
       "      <td>215.90</td>\n",
       "    </tr>\n",
       "    <tr>\n",
       "      <th>868</th>\n",
       "      <td>Marc Gasol</td>\n",
       "      <td>215.90</td>\n",
       "    </tr>\n",
       "  </tbody>\n",
       "</table>\n",
       "</div>"
      ],
      "text/plain": [
       "                   Player  Height\n",
       "486              Yao Ming  228.60\n",
       "236             Rik Smits  223.52\n",
       "1139   Kristaps Porzingis  221.00\n",
       "256       Arvydas Sabonis  220.98\n",
       "483    Zydrunas Ilgauskas  220.98\n",
       "3     Kareem Abdul-Jabbar  218.44\n",
       "188       Dikembe Mutombo  218.44\n",
       "234           Vlade Divac  215.90\n",
       "115        David Robinson  215.90\n",
       "868            Marc Gasol  215.90"
      ]
     },
     "execution_count": 43,
     "metadata": {},
     "output_type": "execute_result"
    }
   ],
   "source": [
    "# Del dataframe ordeado cogemos la columna Player y Height y mostramos los diez primeros, que se corresponderán con los diez\n",
    "# jugadores más altos.\n",
    "nba_ordered_height_tallest[['Player', 'Height']].head(10)"
   ]
  },
  {
   "cell_type": "markdown",
   "metadata": {},
   "source": [
    "# 6. Eliminación de outliers.\n",
    "## 6.1. Eliminar los outliers de la variable peso (Weight) y guardar en un data frame nba.avg."
   ]
  },
  {
   "cell_type": "code",
   "execution_count": 44,
   "metadata": {},
   "outputs": [],
   "source": [
    "nba_avg = nba_unique[np.abs(nba_unique.Weight - nba_unique.Weight.mean()) <= (3 * nba_unique.Weight.std())]"
   ]
  },
  {
   "cell_type": "markdown",
   "metadata": {},
   "source": [
    "## 6.2. Comparar los boxplots de los datos originales en nba.unique y de los datos del peso de nba.avg."
   ]
  },
  {
   "cell_type": "code",
   "execution_count": 45,
   "metadata": {},
   "outputs": [
    {
     "data": {
      "text/plain": [
       "<AxesSubplot:>"
      ]
     },
     "execution_count": 45,
     "metadata": {},
     "output_type": "execute_result"
    },
    {
     "data": {
      "image/png": "[encoded data removed]",
      "text/plain": [
       "<Figure size 432x288 with 1 Axes>"
      ]
     },
     "metadata": {
      "needs_background": "light"
     },
     "output_type": "display_data"
    }
   ],
   "source": [
    "# Visualizamos el boxplot de los datos originales.\n",
    "nba_unique.boxplot(column = \"Weight\")"
   ]
  },
  {
   "cell_type": "code",
   "execution_count": 46,
   "metadata": {},
   "outputs": [
    {
     "data": {
      "text/plain": [
       "<AxesSubplot:>"
      ]
     },
     "execution_count": 46,
     "metadata": {},
     "output_type": "execute_result"
    },
    {
     "data": {
      "image/png": "[encoded data removed]",
      "text/plain": [
       "<Figure size 432x288 with 1 Axes>"
      ]
     },
     "metadata": {
      "needs_background": "light"
     },
     "output_type": "display_data"
    }
   ],
   "source": [
    "# Visualizamos el boxplot de nba_avg. y observamos que se han eliminado correctamente los outliers.\n",
    "nba_avg.boxplot(column = \"Weight\")"
   ]
  },
  {
   "cell_type": "markdown",
   "metadata": {},
   "source": [
    "## 6.3. Interpretar los resultados.\n",
    "\n",
    "Si comparamos el resumen estadístico de los datos que nos devuelve la función `describe` antes y después de la eliminación de los outliers en la columna \"Weight\", podemos comprobar que se han producido cambios en los datos del dataframe. El número de elementos se ha reducido de 274 a 272, ya que existían dos outliers, y esto ha provocado cambios en el resto de estadísticos del atributo como los presentados a continuación:\n",
    "\n",
    "- La media ha pasado de tener un valor de 219,1 a 218,4.\n",
    "- Y por su parte el valor máximo ha pasado de ser 325 a 307.\n",
    "\n",
    "Por otro lado, otros estadísticos se han mantenido igual, como es el caso de la mediana, con un valor de 220, el mínimo (con un valor de 150), y el quartil 1º y 3º, con valores de 195 y 240, respectivamente."
   ]
  },
  {
   "cell_type": "code",
   "execution_count": 47,
   "metadata": {},
   "outputs": [
    {
     "data": {
      "text/plain": [
       "count    274.000000\n",
       "mean     219.077991\n",
       "std       29.416332\n",
       "min      150.000000\n",
       "25%      195.000000\n",
       "50%      220.000000\n",
       "75%      240.000000\n",
       "max      325.000000\n",
       "Name: Weight, dtype: float64"
      ]
     },
     "execution_count": 47,
     "metadata": {},
     "output_type": "execute_result"
    }
   ],
   "source": [
    "# Resumen estadístico de nba.unique a través de la función `describe`.\n",
    "nba_unique['Weight'].describe()"
   ]
  },
  {
   "cell_type": "code",
   "execution_count": 48,
   "metadata": {},
   "outputs": [
    {
     "data": {
      "text/plain": [
       "274"
      ]
     },
     "execution_count": 48,
     "metadata": {},
     "output_type": "execute_result"
    }
   ],
   "source": [
    "# Comprobar número de elementos con la función `len`.\n",
    "len(nba_unique)"
   ]
  },
  {
   "cell_type": "code",
   "execution_count": 49,
   "metadata": {},
   "outputs": [
    {
     "data": {
      "text/plain": [
       "count    272.000000\n",
       "mean     218.354300\n",
       "std       28.271469\n",
       "min      150.000000\n",
       "25%      195.000000\n",
       "50%      220.000000\n",
       "75%      240.000000\n",
       "max      307.000000\n",
       "Name: Weight, dtype: float64"
      ]
     },
     "execution_count": 49,
     "metadata": {},
     "output_type": "execute_result"
    }
   ],
   "source": [
    "# Resumen estadístico del nuevo dataframe \"nba.avg\" con la función `describe`.\n",
    "nba_avg['Weight'].describe()"
   ]
  },
  {
   "cell_type": "code",
   "execution_count": 50,
   "metadata": {},
   "outputs": [
    {
     "data": {
      "text/plain": [
       "272"
      ]
     },
     "execution_count": 50,
     "metadata": {},
     "output_type": "execute_result"
    }
   ],
   "source": [
    "# Comprobar número de elementos con la función `len`.\n",
    "len(nba_avg)"
   ]
  },
  {
   "cell_type": "markdown",
   "metadata": {},
   "source": [
    "# 7. Clasificación de jugadores.\n",
    "\n",
    "## 7.1. Añadir una columna al conjunto de datos denominada “Altura” que contenga los valores: {“bajo”, “normal”, “alto”}. La asignación del valor depende de la altura de cada jugador. Se asigna:\n",
    "\n",
    "- bajo: los 50 jugadores más bajos.\n",
    "- alto: los 50 jugadores más altos.\n",
    "- normal: el resto de jugadores."
   ]
  },
  {
   "cell_type": "code",
   "execution_count": 51,
   "metadata": {},
   "outputs": [
    {
     "name": "stderr",
     "output_type": "stream",
     "text": [
      "C:\\Users\\maril\\.conda\\envs\\Neoland\\lib\\site-packages\\pandas\\core\\indexing.py:1596: SettingWithCopyWarning: \n",
      "A value is trying to be set on a copy of a slice from a DataFrame.\n",
      "Try using .loc[row_indexer,col_indexer] = value instead\n",
      "\n",
      "See the caveats in the documentation: https://pandas.pydata.org/pandas-docs/stable/user_guide/indexing.html#returning-a-view-versus-a-copy\n",
      "  self.obj[key] = _infer_fill_value(value)\n",
      "C:\\Users\\maril\\.conda\\envs\\Neoland\\lib\\site-packages\\pandas\\core\\indexing.py:1765: SettingWithCopyWarning: \n",
      "A value is trying to be set on a copy of a slice from a DataFrame.\n",
      "Try using .loc[row_indexer,col_indexer] = value instead\n",
      "\n",
      "See the caveats in the documentation: https://pandas.pydata.org/pandas-docs/stable/user_guide/indexing.html#returning-a-view-versus-a-copy\n",
      "  isetter(loc, value)\n"
     ]
    },
    {
     "data": {
      "text/html": [
       "<div>\n",
       "<style scoped>\n",
       "    .dataframe tbody tr th:only-of-type {\n",
       "        vertical-align: middle;\n",
       "    }\n",
       "\n",
       "    .dataframe tbody tr th {\n",
       "        vertical-align: top;\n",
       "    }\n",
       "\n",
       "    .dataframe thead th {\n",
       "        text-align: right;\n",
       "    }\n",
       "</style>\n",
       "<table border=\"1\" class=\"dataframe\">\n",
       "  <thead>\n",
       "    <tr style=\"text-align: right;\">\n",
       "      <th></th>\n",
       "      <th>Age</th>\n",
       "      <th>Conference</th>\n",
       "      <th>Date</th>\n",
       "      <th>Draft Year</th>\n",
       "      <th>Height</th>\n",
       "      <th>Player</th>\n",
       "      <th>Position</th>\n",
       "      <th>Season</th>\n",
       "      <th>Season short</th>\n",
       "      <th>Seasons in league</th>\n",
       "      <th>Team</th>\n",
       "      <th>Weight</th>\n",
       "      <th>Real_value</th>\n",
       "      <th>Tiempo</th>\n",
       "      <th>Altura</th>\n",
       "    </tr>\n",
       "  </thead>\n",
       "  <tbody>\n",
       "    <tr>\n",
       "      <th>0</th>\n",
       "      <td>29</td>\n",
       "      <td>NaN</td>\n",
       "      <td>Apr 14, 1985</td>\n",
       "      <td>1978</td>\n",
       "      <td>195.58</td>\n",
       "      <td>Micheal Ray Richardson</td>\n",
       "      <td>Point Guard</td>\n",
       "      <td>1984-1985</td>\n",
       "      <td>1985</td>\n",
       "      <td>6</td>\n",
       "      <td>New Jersey Nets</td>\n",
       "      <td>189.000000</td>\n",
       "      <td>1.0</td>\n",
       "      <td>7</td>\n",
       "      <td>normal</td>\n",
       "    </tr>\n",
       "    <tr>\n",
       "      <th>1</th>\n",
       "      <td>23</td>\n",
       "      <td>NaN</td>\n",
       "      <td>Apr 7, 1985</td>\n",
       "      <td>1982</td>\n",
       "      <td>198.12</td>\n",
       "      <td>Derek Smith</td>\n",
       "      <td>Shooting Guard</td>\n",
       "      <td>1984-1985</td>\n",
       "      <td>1985</td>\n",
       "      <td>2</td>\n",
       "      <td>Los Angeles Clippers</td>\n",
       "      <td>205.000000</td>\n",
       "      <td>1.0</td>\n",
       "      <td>3</td>\n",
       "      <td>normal</td>\n",
       "    </tr>\n",
       "    <tr>\n",
       "      <th>2</th>\n",
       "      <td>28</td>\n",
       "      <td>NaN</td>\n",
       "      <td>Apr 1, 1985</td>\n",
       "      <td>1979</td>\n",
       "      <td>198.12</td>\n",
       "      <td>Calvin Natt</td>\n",
       "      <td>Forward</td>\n",
       "      <td>1984-1985</td>\n",
       "      <td>1985</td>\n",
       "      <td>5</td>\n",
       "      <td>Denver Nuggets</td>\n",
       "      <td>220.000000</td>\n",
       "      <td>1.0</td>\n",
       "      <td>6</td>\n",
       "      <td>normal</td>\n",
       "    </tr>\n",
       "    <tr>\n",
       "      <th>3</th>\n",
       "      <td>37</td>\n",
       "      <td>NaN</td>\n",
       "      <td>Mar 24, 1985</td>\n",
       "      <td>1969</td>\n",
       "      <td>218.44</td>\n",
       "      <td>Kareem Abdul-Jabbar</td>\n",
       "      <td>Center</td>\n",
       "      <td>1984-1985</td>\n",
       "      <td>1985</td>\n",
       "      <td>15</td>\n",
       "      <td>Los Angeles Lakers</td>\n",
       "      <td>225.000000</td>\n",
       "      <td>1.0</td>\n",
       "      <td>16</td>\n",
       "      <td>alto</td>\n",
       "    </tr>\n",
       "    <tr>\n",
       "      <th>4</th>\n",
       "      <td>28</td>\n",
       "      <td>NaN</td>\n",
       "      <td>Mar 17, 1985</td>\n",
       "      <td>1978</td>\n",
       "      <td>205.74</td>\n",
       "      <td>Larry Bird</td>\n",
       "      <td>Small Forward</td>\n",
       "      <td>1984-1985</td>\n",
       "      <td>1985</td>\n",
       "      <td>5</td>\n",
       "      <td>Boston Celtics</td>\n",
       "      <td>220.000000</td>\n",
       "      <td>1.0</td>\n",
       "      <td>7</td>\n",
       "      <td>normal</td>\n",
       "    </tr>\n",
       "    <tr>\n",
       "      <th>...</th>\n",
       "      <td>...</td>\n",
       "      <td>...</td>\n",
       "      <td>...</td>\n",
       "      <td>...</td>\n",
       "      <td>...</td>\n",
       "      <td>...</td>\n",
       "      <td>...</td>\n",
       "      <td>...</td>\n",
       "      <td>...</td>\n",
       "      <td>...</td>\n",
       "      <td>...</td>\n",
       "      <td>...</td>\n",
       "      <td>...</td>\n",
       "      <td>...</td>\n",
       "      <td>...</td>\n",
       "    </tr>\n",
       "    <tr>\n",
       "      <th>1101</th>\n",
       "      <td>25</td>\n",
       "      <td>East</td>\n",
       "      <td>Apr 2, 2018</td>\n",
       "      <td>2013</td>\n",
       "      <td>193.00</td>\n",
       "      <td>Victor Oladipo</td>\n",
       "      <td>Guard</td>\n",
       "      <td>2017-2018</td>\n",
       "      <td>2018</td>\n",
       "      <td>4</td>\n",
       "      <td>Indiana Pacers</td>\n",
       "      <td>209.439185</td>\n",
       "      <td>0.5</td>\n",
       "      <td>5</td>\n",
       "      <td>normal</td>\n",
       "    </tr>\n",
       "    <tr>\n",
       "      <th>1115</th>\n",
       "      <td>26</td>\n",
       "      <td>East</td>\n",
       "      <td>Jan 29, 2018</td>\n",
       "      <td>2012</td>\n",
       "      <td>203.00</td>\n",
       "      <td>Khris Middleton</td>\n",
       "      <td>Small Forward</td>\n",
       "      <td>2017-2018</td>\n",
       "      <td>2018</td>\n",
       "      <td>5</td>\n",
       "      <td>Milwaukee Bucks</td>\n",
       "      <td>233.690038</td>\n",
       "      <td>0.5</td>\n",
       "      <td>6</td>\n",
       "      <td>normal</td>\n",
       "    </tr>\n",
       "    <tr>\n",
       "      <th>1123</th>\n",
       "      <td>24</td>\n",
       "      <td>East</td>\n",
       "      <td>Jan 2, 2018</td>\n",
       "      <td>2012</td>\n",
       "      <td>196.00</td>\n",
       "      <td>Bradley Beal</td>\n",
       "      <td>Shooting Guard</td>\n",
       "      <td>2017-2018</td>\n",
       "      <td>2018</td>\n",
       "      <td>5</td>\n",
       "      <td>Washington Wizards</td>\n",
       "      <td>207.234562</td>\n",
       "      <td>0.5</td>\n",
       "      <td>6</td>\n",
       "      <td>normal</td>\n",
       "    </tr>\n",
       "    <tr>\n",
       "      <th>1137</th>\n",
       "      <td>25</td>\n",
       "      <td>East</td>\n",
       "      <td>Nov 13, 2017</td>\n",
       "      <td>2011</td>\n",
       "      <td>206.00</td>\n",
       "      <td>Tobias Harris</td>\n",
       "      <td>Forward</td>\n",
       "      <td>2017-2018</td>\n",
       "      <td>2018</td>\n",
       "      <td>6</td>\n",
       "      <td>Detroit Pistons</td>\n",
       "      <td>235.894661</td>\n",
       "      <td>0.5</td>\n",
       "      <td>7</td>\n",
       "      <td>normal</td>\n",
       "    </tr>\n",
       "    <tr>\n",
       "      <th>1139</th>\n",
       "      <td>22</td>\n",
       "      <td>East</td>\n",
       "      <td>Nov 6, 2017</td>\n",
       "      <td>2015</td>\n",
       "      <td>221.00</td>\n",
       "      <td>Kristaps Porzingis</td>\n",
       "      <td>Forward</td>\n",
       "      <td>2017-2018</td>\n",
       "      <td>2018</td>\n",
       "      <td>2</td>\n",
       "      <td>New York Knicks</td>\n",
       "      <td>240.303907</td>\n",
       "      <td>0.5</td>\n",
       "      <td>3</td>\n",
       "      <td>alto</td>\n",
       "    </tr>\n",
       "  </tbody>\n",
       "</table>\n",
       "<p>274 rows × 15 columns</p>\n",
       "</div>"
      ],
      "text/plain": [
       "      Age Conference          Date  Draft Year  Height  \\\n",
       "0      29        NaN  Apr 14, 1985        1978  195.58   \n",
       "1      23        NaN   Apr 7, 1985        1982  198.12   \n",
       "2      28        NaN   Apr 1, 1985        1979  198.12   \n",
       "3      37        NaN  Mar 24, 1985        1969  218.44   \n",
       "4      28        NaN  Mar 17, 1985        1978  205.74   \n",
       "...   ...        ...           ...         ...     ...   \n",
       "1101   25       East   Apr 2, 2018        2013  193.00   \n",
       "1115   26       East  Jan 29, 2018        2012  203.00   \n",
       "1123   24       East   Jan 2, 2018        2012  196.00   \n",
       "1137   25       East  Nov 13, 2017        2011  206.00   \n",
       "1139   22       East   Nov 6, 2017        2015  221.00   \n",
       "\n",
       "                      Player        Position     Season  Season short  \\\n",
       "0     Micheal Ray Richardson     Point Guard  1984-1985          1985   \n",
       "1                Derek Smith  Shooting Guard  1984-1985          1985   \n",
       "2                Calvin Natt         Forward  1984-1985          1985   \n",
       "3        Kareem Abdul-Jabbar          Center  1984-1985          1985   \n",
       "4                 Larry Bird   Small Forward  1984-1985          1985   \n",
       "...                      ...             ...        ...           ...   \n",
       "1101          Victor Oladipo           Guard  2017-2018          2018   \n",
       "1115         Khris Middleton   Small Forward  2017-2018          2018   \n",
       "1123            Bradley Beal  Shooting Guard  2017-2018          2018   \n",
       "1137           Tobias Harris         Forward  2017-2018          2018   \n",
       "1139      Kristaps Porzingis         Forward  2017-2018          2018   \n",
       "\n",
       "      Seasons in league                  Team      Weight  Real_value  Tiempo  \\\n",
       "0                     6       New Jersey Nets  189.000000         1.0       7   \n",
       "1                     2  Los Angeles Clippers  205.000000         1.0       3   \n",
       "2                     5        Denver Nuggets  220.000000         1.0       6   \n",
       "3                    15    Los Angeles Lakers  225.000000         1.0      16   \n",
       "4                     5        Boston Celtics  220.000000         1.0       7   \n",
       "...                 ...                   ...         ...         ...     ...   \n",
       "1101                  4        Indiana Pacers  209.439185         0.5       5   \n",
       "1115                  5       Milwaukee Bucks  233.690038         0.5       6   \n",
       "1123                  5    Washington Wizards  207.234562         0.5       6   \n",
       "1137                  6       Detroit Pistons  235.894661         0.5       7   \n",
       "1139                  2       New York Knicks  240.303907         0.5       3   \n",
       "\n",
       "      Altura  \n",
       "0     normal  \n",
       "1     normal  \n",
       "2     normal  \n",
       "3       alto  \n",
       "4     normal  \n",
       "...      ...  \n",
       "1101  normal  \n",
       "1115  normal  \n",
       "1123  normal  \n",
       "1137  normal  \n",
       "1139    alto  \n",
       "\n",
       "[274 rows x 15 columns]"
      ]
     },
     "execution_count": 51,
     "metadata": {},
     "output_type": "execute_result"
    }
   ],
   "source": [
    "# Ordenamos el dataframe por la columna Altura y nos quedamos con el índice. Guardamos el resultado en una variable.\n",
    "players_sorted_index_height = nba_unique.sort_values(by = \"Height\").index\n",
    "\n",
    "# Asignamos los valores \"bajo\", \"normal\" y \"alto\" a las filas que correspondan en el dataframe.\n",
    "nba_unique.loc[:, \"Altura\"] = \"normal\"\n",
    "nba_unique.loc[players_sorted_index_height[0:50], \"Altura\"] = \"bajo\"\n",
    "nba_unique.loc[players_sorted_index_height[-50:], \"Altura\"] = \"alto\"\n",
    "\n",
    "# Mostramos el dataframe para comprobar el resultado.\n",
    "nba_unique"
   ]
  },
  {
   "cell_type": "markdown",
   "metadata": {},
   "source": [
    "## 7.2. Añadir una columna al conjunto de datos denominada “Peso” que contenga los valores: {“bajo”, “normal”, “alto”}. La asignación del valor depende del peso de cada jugador. Se asigna:\n",
    "\n",
    "- bajo: los 50 jugadores con menor peso.\n",
    "- alto: los 50 jugadores con mayor peso.\n",
    "- normal: el resto de jugadores."
   ]
  },
  {
   "cell_type": "code",
   "execution_count": 52,
   "metadata": {},
   "outputs": [
    {
     "name": "stderr",
     "output_type": "stream",
     "text": [
      "C:\\Users\\maril\\.conda\\envs\\Neoland\\lib\\site-packages\\pandas\\core\\indexing.py:659: SettingWithCopyWarning: \n",
      "A value is trying to be set on a copy of a slice from a DataFrame.\n",
      "Try using .loc[row_indexer,col_indexer] = value instead\n",
      "\n",
      "See the caveats in the documentation: https://pandas.pydata.org/pandas-docs/stable/user_guide/indexing.html#returning-a-view-versus-a-copy\n",
      "  self.obj[k] = np.nan\n",
      "C:\\Users\\maril\\.conda\\envs\\Neoland\\lib\\site-packages\\pandas\\core\\indexing.py:1765: SettingWithCopyWarning: \n",
      "A value is trying to be set on a copy of a slice from a DataFrame.\n",
      "Try using .loc[row_indexer,col_indexer] = value instead\n",
      "\n",
      "See the caveats in the documentation: https://pandas.pydata.org/pandas-docs/stable/user_guide/indexing.html#returning-a-view-versus-a-copy\n",
      "  isetter(loc, value)\n"
     ]
    },
    {
     "data": {
      "text/html": [
       "<div>\n",
       "<style scoped>\n",
       "    .dataframe tbody tr th:only-of-type {\n",
       "        vertical-align: middle;\n",
       "    }\n",
       "\n",
       "    .dataframe tbody tr th {\n",
       "        vertical-align: top;\n",
       "    }\n",
       "\n",
       "    .dataframe thead th {\n",
       "        text-align: right;\n",
       "    }\n",
       "</style>\n",
       "<table border=\"1\" class=\"dataframe\">\n",
       "  <thead>\n",
       "    <tr style=\"text-align: right;\">\n",
       "      <th></th>\n",
       "      <th>Age</th>\n",
       "      <th>Conference</th>\n",
       "      <th>Date</th>\n",
       "      <th>Draft Year</th>\n",
       "      <th>Height</th>\n",
       "      <th>Player</th>\n",
       "      <th>Position</th>\n",
       "      <th>Season</th>\n",
       "      <th>Season short</th>\n",
       "      <th>Seasons in league</th>\n",
       "      <th>Team</th>\n",
       "      <th>Weight</th>\n",
       "      <th>Real_value</th>\n",
       "      <th>Tiempo</th>\n",
       "      <th>Altura</th>\n",
       "      <th>Peso</th>\n",
       "    </tr>\n",
       "  </thead>\n",
       "  <tbody>\n",
       "    <tr>\n",
       "      <th>0</th>\n",
       "      <td>29</td>\n",
       "      <td>NaN</td>\n",
       "      <td>Apr 14, 1985</td>\n",
       "      <td>1978</td>\n",
       "      <td>195.58</td>\n",
       "      <td>Micheal Ray Richardson</td>\n",
       "      <td>Point Guard</td>\n",
       "      <td>1984-1985</td>\n",
       "      <td>1985</td>\n",
       "      <td>6</td>\n",
       "      <td>New Jersey Nets</td>\n",
       "      <td>189.000000</td>\n",
       "      <td>1.0</td>\n",
       "      <td>7</td>\n",
       "      <td>normal</td>\n",
       "      <td>bajo</td>\n",
       "    </tr>\n",
       "    <tr>\n",
       "      <th>1</th>\n",
       "      <td>23</td>\n",
       "      <td>NaN</td>\n",
       "      <td>Apr 7, 1985</td>\n",
       "      <td>1982</td>\n",
       "      <td>198.12</td>\n",
       "      <td>Derek Smith</td>\n",
       "      <td>Shooting Guard</td>\n",
       "      <td>1984-1985</td>\n",
       "      <td>1985</td>\n",
       "      <td>2</td>\n",
       "      <td>Los Angeles Clippers</td>\n",
       "      <td>205.000000</td>\n",
       "      <td>1.0</td>\n",
       "      <td>3</td>\n",
       "      <td>normal</td>\n",
       "      <td>normal</td>\n",
       "    </tr>\n",
       "    <tr>\n",
       "      <th>2</th>\n",
       "      <td>28</td>\n",
       "      <td>NaN</td>\n",
       "      <td>Apr 1, 1985</td>\n",
       "      <td>1979</td>\n",
       "      <td>198.12</td>\n",
       "      <td>Calvin Natt</td>\n",
       "      <td>Forward</td>\n",
       "      <td>1984-1985</td>\n",
       "      <td>1985</td>\n",
       "      <td>5</td>\n",
       "      <td>Denver Nuggets</td>\n",
       "      <td>220.000000</td>\n",
       "      <td>1.0</td>\n",
       "      <td>6</td>\n",
       "      <td>normal</td>\n",
       "      <td>normal</td>\n",
       "    </tr>\n",
       "    <tr>\n",
       "      <th>3</th>\n",
       "      <td>37</td>\n",
       "      <td>NaN</td>\n",
       "      <td>Mar 24, 1985</td>\n",
       "      <td>1969</td>\n",
       "      <td>218.44</td>\n",
       "      <td>Kareem Abdul-Jabbar</td>\n",
       "      <td>Center</td>\n",
       "      <td>1984-1985</td>\n",
       "      <td>1985</td>\n",
       "      <td>15</td>\n",
       "      <td>Los Angeles Lakers</td>\n",
       "      <td>225.000000</td>\n",
       "      <td>1.0</td>\n",
       "      <td>16</td>\n",
       "      <td>alto</td>\n",
       "      <td>normal</td>\n",
       "    </tr>\n",
       "    <tr>\n",
       "      <th>4</th>\n",
       "      <td>28</td>\n",
       "      <td>NaN</td>\n",
       "      <td>Mar 17, 1985</td>\n",
       "      <td>1978</td>\n",
       "      <td>205.74</td>\n",
       "      <td>Larry Bird</td>\n",
       "      <td>Small Forward</td>\n",
       "      <td>1984-1985</td>\n",
       "      <td>1985</td>\n",
       "      <td>5</td>\n",
       "      <td>Boston Celtics</td>\n",
       "      <td>220.000000</td>\n",
       "      <td>1.0</td>\n",
       "      <td>7</td>\n",
       "      <td>normal</td>\n",
       "      <td>normal</td>\n",
       "    </tr>\n",
       "    <tr>\n",
       "      <th>...</th>\n",
       "      <td>...</td>\n",
       "      <td>...</td>\n",
       "      <td>...</td>\n",
       "      <td>...</td>\n",
       "      <td>...</td>\n",
       "      <td>...</td>\n",
       "      <td>...</td>\n",
       "      <td>...</td>\n",
       "      <td>...</td>\n",
       "      <td>...</td>\n",
       "      <td>...</td>\n",
       "      <td>...</td>\n",
       "      <td>...</td>\n",
       "      <td>...</td>\n",
       "      <td>...</td>\n",
       "      <td>...</td>\n",
       "    </tr>\n",
       "    <tr>\n",
       "      <th>1101</th>\n",
       "      <td>25</td>\n",
       "      <td>East</td>\n",
       "      <td>Apr 2, 2018</td>\n",
       "      <td>2013</td>\n",
       "      <td>193.00</td>\n",
       "      <td>Victor Oladipo</td>\n",
       "      <td>Guard</td>\n",
       "      <td>2017-2018</td>\n",
       "      <td>2018</td>\n",
       "      <td>4</td>\n",
       "      <td>Indiana Pacers</td>\n",
       "      <td>209.439185</td>\n",
       "      <td>0.5</td>\n",
       "      <td>5</td>\n",
       "      <td>normal</td>\n",
       "      <td>normal</td>\n",
       "    </tr>\n",
       "    <tr>\n",
       "      <th>1115</th>\n",
       "      <td>26</td>\n",
       "      <td>East</td>\n",
       "      <td>Jan 29, 2018</td>\n",
       "      <td>2012</td>\n",
       "      <td>203.00</td>\n",
       "      <td>Khris Middleton</td>\n",
       "      <td>Small Forward</td>\n",
       "      <td>2017-2018</td>\n",
       "      <td>2018</td>\n",
       "      <td>5</td>\n",
       "      <td>Milwaukee Bucks</td>\n",
       "      <td>233.690038</td>\n",
       "      <td>0.5</td>\n",
       "      <td>6</td>\n",
       "      <td>normal</td>\n",
       "      <td>normal</td>\n",
       "    </tr>\n",
       "    <tr>\n",
       "      <th>1123</th>\n",
       "      <td>24</td>\n",
       "      <td>East</td>\n",
       "      <td>Jan 2, 2018</td>\n",
       "      <td>2012</td>\n",
       "      <td>196.00</td>\n",
       "      <td>Bradley Beal</td>\n",
       "      <td>Shooting Guard</td>\n",
       "      <td>2017-2018</td>\n",
       "      <td>2018</td>\n",
       "      <td>5</td>\n",
       "      <td>Washington Wizards</td>\n",
       "      <td>207.234562</td>\n",
       "      <td>0.5</td>\n",
       "      <td>6</td>\n",
       "      <td>normal</td>\n",
       "      <td>normal</td>\n",
       "    </tr>\n",
       "    <tr>\n",
       "      <th>1137</th>\n",
       "      <td>25</td>\n",
       "      <td>East</td>\n",
       "      <td>Nov 13, 2017</td>\n",
       "      <td>2011</td>\n",
       "      <td>206.00</td>\n",
       "      <td>Tobias Harris</td>\n",
       "      <td>Forward</td>\n",
       "      <td>2017-2018</td>\n",
       "      <td>2018</td>\n",
       "      <td>6</td>\n",
       "      <td>Detroit Pistons</td>\n",
       "      <td>235.894661</td>\n",
       "      <td>0.5</td>\n",
       "      <td>7</td>\n",
       "      <td>normal</td>\n",
       "      <td>normal</td>\n",
       "    </tr>\n",
       "    <tr>\n",
       "      <th>1139</th>\n",
       "      <td>22</td>\n",
       "      <td>East</td>\n",
       "      <td>Nov 6, 2017</td>\n",
       "      <td>2015</td>\n",
       "      <td>221.00</td>\n",
       "      <td>Kristaps Porzingis</td>\n",
       "      <td>Forward</td>\n",
       "      <td>2017-2018</td>\n",
       "      <td>2018</td>\n",
       "      <td>2</td>\n",
       "      <td>New York Knicks</td>\n",
       "      <td>240.303907</td>\n",
       "      <td>0.5</td>\n",
       "      <td>3</td>\n",
       "      <td>alto</td>\n",
       "      <td>normal</td>\n",
       "    </tr>\n",
       "  </tbody>\n",
       "</table>\n",
       "<p>274 rows × 16 columns</p>\n",
       "</div>"
      ],
      "text/plain": [
       "      Age Conference          Date  Draft Year  Height  \\\n",
       "0      29        NaN  Apr 14, 1985        1978  195.58   \n",
       "1      23        NaN   Apr 7, 1985        1982  198.12   \n",
       "2      28        NaN   Apr 1, 1985        1979  198.12   \n",
       "3      37        NaN  Mar 24, 1985        1969  218.44   \n",
       "4      28        NaN  Mar 17, 1985        1978  205.74   \n",
       "...   ...        ...           ...         ...     ...   \n",
       "1101   25       East   Apr 2, 2018        2013  193.00   \n",
       "1115   26       East  Jan 29, 2018        2012  203.00   \n",
       "1123   24       East   Jan 2, 2018        2012  196.00   \n",
       "1137   25       East  Nov 13, 2017        2011  206.00   \n",
       "1139   22       East   Nov 6, 2017        2015  221.00   \n",
       "\n",
       "                      Player        Position     Season  Season short  \\\n",
       "0     Micheal Ray Richardson     Point Guard  1984-1985          1985   \n",
       "1                Derek Smith  Shooting Guard  1984-1985          1985   \n",
       "2                Calvin Natt         Forward  1984-1985          1985   \n",
       "3        Kareem Abdul-Jabbar          Center  1984-1985          1985   \n",
       "4                 Larry Bird   Small Forward  1984-1985          1985   \n",
       "...                      ...             ...        ...           ...   \n",
       "1101          Victor Oladipo           Guard  2017-2018          2018   \n",
       "1115         Khris Middleton   Small Forward  2017-2018          2018   \n",
       "1123            Bradley Beal  Shooting Guard  2017-2018          2018   \n",
       "1137           Tobias Harris         Forward  2017-2018          2018   \n",
       "1139      Kristaps Porzingis         Forward  2017-2018          2018   \n",
       "\n",
       "      Seasons in league                  Team      Weight  Real_value  Tiempo  \\\n",
       "0                     6       New Jersey Nets  189.000000         1.0       7   \n",
       "1                     2  Los Angeles Clippers  205.000000         1.0       3   \n",
       "2                     5        Denver Nuggets  220.000000         1.0       6   \n",
       "3                    15    Los Angeles Lakers  225.000000         1.0      16   \n",
       "4                     5        Boston Celtics  220.000000         1.0       7   \n",
       "...                 ...                   ...         ...         ...     ...   \n",
       "1101                  4        Indiana Pacers  209.439185         0.5       5   \n",
       "1115                  5       Milwaukee Bucks  233.690038         0.5       6   \n",
       "1123                  5    Washington Wizards  207.234562         0.5       6   \n",
       "1137                  6       Detroit Pistons  235.894661         0.5       7   \n",
       "1139                  2       New York Knicks  240.303907         0.5       3   \n",
       "\n",
       "      Altura    Peso  \n",
       "0     normal    bajo  \n",
       "1     normal  normal  \n",
       "2     normal  normal  \n",
       "3       alto  normal  \n",
       "4     normal  normal  \n",
       "...      ...     ...  \n",
       "1101  normal  normal  \n",
       "1115  normal  normal  \n",
       "1123  normal  normal  \n",
       "1137  normal  normal  \n",
       "1139    alto  normal  \n",
       "\n",
       "[274 rows x 16 columns]"
      ]
     },
     "execution_count": 52,
     "metadata": {},
     "output_type": "execute_result"
    }
   ],
   "source": [
    "# Ordenamos el dataframe por la columna Altura y nos quedamos con el índice. Guardamos el resultado en una variable.\n",
    "players_sorted_index_weight = nba_unique.sort_values(by = \"Weight\").index\n",
    "\n",
    "# Asignamos los valores \"bajo\", \"normal\" y \"alto\" a las filas que correspondan en el dataframe.\n",
    "nba_unique.loc[:, ['Peso']] = \"normal\"\n",
    "nba_unique.loc[players_sorted_index_weight[0:50], ['Peso']] = \"bajo\"\n",
    "nba_unique.loc[players_sorted_index_weight[-50:], ['Peso']] = \"alto\"\n",
    "\n",
    "# Mostramos el dataframe para comprobar el resultado.\n",
    "nba_unique"
   ]
  },
  {
   "cell_type": "markdown",
   "metadata": {},
   "source": [
    "## 7.3. Calcular la media y desviación típica del peso (Weight) según la clasificación de altura de los jugadores."
   ]
  },
  {
   "cell_type": "code",
   "execution_count": 53,
   "metadata": {},
   "outputs": [
    {
     "data": {
      "text/plain": [
       "Altura\n",
       "alto      252.419621\n",
       "bajo      184.200000\n",
       "normal    219.519474\n",
       "Name: Weight, dtype: float64"
      ]
     },
     "execution_count": 53,
     "metadata": {},
     "output_type": "execute_result"
    }
   ],
   "source": [
    "# Agrupamos por Altura y calculamos la media del peso.\n",
    "nba_unique.groupby(['Altura'])['Weight'].mean()"
   ]
  },
  {
   "cell_type": "code",
   "execution_count": 54,
   "metadata": {},
   "outputs": [
    {
     "data": {
      "text/plain": [
       "Altura\n",
       "alto      23.501149\n",
       "bajo      12.774337\n",
       "normal    22.131083\n",
       "Name: Weight, dtype: float64"
      ]
     },
     "execution_count": 54,
     "metadata": {},
     "output_type": "execute_result"
    }
   ],
   "source": [
    "# Agrupamos por Altura y calculamos la desviación típica el peso.\n",
    "nba_unique.groupby(['Altura'])['Weight'].std()"
   ]
  },
  {
   "cell_type": "markdown",
   "metadata": {},
   "source": [
    "## 7.4. Realizar un boxplot del peso (Weight) según la clasificación de altura del jugador. Los boxplots deben estar ordenados de menos a mayor altura."
   ]
  },
  {
   "cell_type": "code",
   "execution_count": 55,
   "metadata": {},
   "outputs": [
    {
     "name": "stderr",
     "output_type": "stream",
     "text": [
      "<ipython-input-55-ec748d17837d>:2: SettingWithCopyWarning: \n",
      "A value is trying to be set on a copy of a slice from a DataFrame.\n",
      "Try using .loc[row_indexer,col_indexer] = value instead\n",
      "\n",
      "See the caveats in the documentation: https://pandas.pydata.org/pandas-docs/stable/user_guide/indexing.html#returning-a-view-versus-a-copy\n",
      "  nba_unique['Altura'] = pd.Categorical(nba_unique['Altura'], categories=[\"bajo\", \"normal\", \"alto\"], ordered = True)\n"
     ]
    },
    {
     "data": {
      "text/plain": [
       "<AxesSubplot:title={'center':'Weight'}, xlabel='Altura'>"
      ]
     },
     "execution_count": 55,
     "metadata": {},
     "output_type": "execute_result"
    },
    {
     "data": {
      "image/png": "[encoded data removed]",
      "text/plain": [
       "<Figure size 432x288 with 1 Axes>"
      ]
     },
     "metadata": {
      "needs_background": "light"
     },
     "output_type": "display_data"
    }
   ],
   "source": [
    "# Convertimos en factor la columna Altura con el orden de levels deseado.\n",
    "nba_unique['Altura'] = pd.Categorical(nba_unique['Altura'], categories=[\"bajo\", \"normal\", \"alto\"], ordered = True)\n",
    "\n",
    "# Hacemos un boxplot del Peso agrupando por Altura.\n",
    "nba_unique.boxplot(column = \"Weight\", by = \"Altura\")"
   ]
  },
  {
   "cell_type": "markdown",
   "metadata": {},
   "source": [
    "## 7.5. Hacer un listado con el nombre de jugadores que tienen una altura ‘normal’ y un peso ‘alto’. Ordenar alfabéticamente por nombre."
   ]
  },
  {
   "cell_type": "code",
   "execution_count": 56,
   "metadata": {},
   "outputs": [
    {
     "data": {
      "text/html": [
       "<div>\n",
       "<style scoped>\n",
       "    .dataframe tbody tr th:only-of-type {\n",
       "        vertical-align: middle;\n",
       "    }\n",
       "\n",
       "    .dataframe tbody tr th {\n",
       "        vertical-align: top;\n",
       "    }\n",
       "\n",
       "    .dataframe thead th {\n",
       "        text-align: right;\n",
       "    }\n",
       "</style>\n",
       "<table border=\"1\" class=\"dataframe\">\n",
       "  <thead>\n",
       "    <tr style=\"text-align: right;\">\n",
       "      <th></th>\n",
       "      <th>Player</th>\n",
       "    </tr>\n",
       "  </thead>\n",
       "  <tbody>\n",
       "    <tr>\n",
       "      <th>976</th>\n",
       "      <td>Anthony Davis</td>\n",
       "    </tr>\n",
       "    <tr>\n",
       "      <th>450</th>\n",
       "      <td>Antoine Walker</td>\n",
       "    </tr>\n",
       "    <tr>\n",
       "      <th>910</th>\n",
       "      <td>Blake Griffin</td>\n",
       "    </tr>\n",
       "    <tr>\n",
       "      <th>495</th>\n",
       "      <td>Carlos Boozer</td>\n",
       "    </tr>\n",
       "    <tr>\n",
       "      <th>25</th>\n",
       "      <td>Charles Barkley</td>\n",
       "    </tr>\n",
       "    <tr>\n",
       "      <th>723</th>\n",
       "      <td>David Lee</td>\n",
       "    </tr>\n",
       "    <tr>\n",
       "      <th>718</th>\n",
       "      <td>David West</td>\n",
       "    </tr>\n",
       "    <tr>\n",
       "      <th>853</th>\n",
       "      <td>Drew Gooden</td>\n",
       "    </tr>\n",
       "    <tr>\n",
       "      <th>417</th>\n",
       "      <td>Elton Brand</td>\n",
       "    </tr>\n",
       "    <tr>\n",
       "      <th>248</th>\n",
       "      <td>Jamal Mashburn</td>\n",
       "    </tr>\n",
       "    <tr>\n",
       "      <th>937</th>\n",
       "      <td>Jared Sullinger</td>\n",
       "    </tr>\n",
       "    <tr>\n",
       "      <th>51</th>\n",
       "      <td>Karl Malone</td>\n",
       "    </tr>\n",
       "    <tr>\n",
       "      <th>936</th>\n",
       "      <td>Kevin Love</td>\n",
       "    </tr>\n",
       "    <tr>\n",
       "      <th>165</th>\n",
       "      <td>Larry Johnson</td>\n",
       "    </tr>\n",
       "    <tr>\n",
       "      <th>543</th>\n",
       "      <td>LeBron James</td>\n",
       "    </tr>\n",
       "    <tr>\n",
       "      <th>8</th>\n",
       "      <td>Magic Johnson</td>\n",
       "    </tr>\n",
       "    <tr>\n",
       "      <th>469</th>\n",
       "      <td>Metta World Peace</td>\n",
       "    </tr>\n",
       "    <tr>\n",
       "      <th>1100</th>\n",
       "      <td>Nikola Jokic</td>\n",
       "    </tr>\n",
       "    <tr>\n",
       "      <th>222</th>\n",
       "      <td>Oliver Miller</td>\n",
       "    </tr>\n",
       "    <tr>\n",
       "      <th>941</th>\n",
       "      <td>Paul Millsap</td>\n",
       "    </tr>\n",
       "    <tr>\n",
       "      <th>198</th>\n",
       "      <td>Shawn Kemp</td>\n",
       "    </tr>\n",
       "    <tr>\n",
       "      <th>800</th>\n",
       "      <td>Zach Randolph</td>\n",
       "    </tr>\n",
       "  </tbody>\n",
       "</table>\n",
       "</div>"
      ],
      "text/plain": [
       "                 Player\n",
       "976       Anthony Davis\n",
       "450      Antoine Walker\n",
       "910       Blake Griffin\n",
       "495       Carlos Boozer\n",
       "25      Charles Barkley\n",
       "723           David Lee\n",
       "718          David West\n",
       "853         Drew Gooden\n",
       "417         Elton Brand\n",
       "248      Jamal Mashburn\n",
       "937     Jared Sullinger\n",
       "51          Karl Malone\n",
       "936          Kevin Love\n",
       "165       Larry Johnson\n",
       "543        LeBron James\n",
       "8         Magic Johnson\n",
       "469   Metta World Peace\n",
       "1100       Nikola Jokic\n",
       "222       Oliver Miller\n",
       "941        Paul Millsap\n",
       "198          Shawn Kemp\n",
       "800       Zach Randolph"
      ]
     },
     "execution_count": 56,
     "metadata": {},
     "output_type": "execute_result"
    }
   ],
   "source": [
    "nba_unique.loc[(nba_unique.Altura == \"normal\") & (nba_unique.Peso == \"alto\"), ['Player']].sort_values(by = \"Player\")"
   ]
  }
 ],
 "metadata": {
  "kernelspec": {
   "display_name": "Python 3",
   "language": "python",
   "name": "python3"
  },
  "language_info": {
   "codemirror_mode": {
    "name": "ipython",
    "version": 3
   },
   "file_extension": ".py",
   "mimetype": "text/x-python",
   "name": "python",
   "nbconvert_exporter": "python",
   "pygments_lexer": "ipython3",
   "version": "3.8.5"
  }
 },
 "nbformat": 4,
 "nbformat_minor": 4
}
