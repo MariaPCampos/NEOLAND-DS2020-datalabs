{
 "cells": [
  {
   "cell_type": "markdown",
   "metadata": {},
   "source": [
    "# Ejercicios de Programación Resueltos"
   ]
  },
  {
   "cell_type": "markdown",
   "metadata": {},
   "source": [
    "## Ejercicio 1"
   ]
  },
  {
   "cell_type": "markdown",
   "metadata": {},
   "source": [
    "Calcule una función que determine si un año es bisiesto o no.\n",
    "Recuerde que un año es bisiesto si es multiplo de 4 o es multiplo de 400.\n",
    "Es decir, los años 1700, 1800 o 1900 son divisbles por 4 divisibles pero no divisbles por 400.\n",
    "En cambio, los años 1600 o 2000 son divisbles por 4 divisibles y divisbles por 400."
   ]
  },
  {
   "cell_type": "code",
   "execution_count": 1,
   "metadata": {},
   "outputs": [],
   "source": [
    "# Creamos una función que reciba por parámetro el año y nos diga si este es bisiesto.\n",
    "def leap_year(year):\n",
    "    if year % 4 == 0 or year % 400 == 0:\n",
    "        print(f\"El año {year} es bisiesto\")\n",
    "    else:\n",
    "        print(f\"El año {year} no es bisiesto\")"
   ]
  },
  {
   "cell_type": "code",
   "execution_count": 2,
   "metadata": {},
   "outputs": [
    {
     "name": "stdout",
     "output_type": "stream",
     "text": [
      "El año 1700 es bisiesto\n",
      "El año 1800 es bisiesto\n",
      "El año 1900 es bisiesto\n",
      "El año 1600 es bisiesto\n",
      "El año 2000 es bisiesto\n",
      "El año 2001 no es bisiesto\n",
      "El año 2020 es bisiesto\n"
     ]
    }
   ],
   "source": [
    "# Probamos la función.\n",
    "leap_year(1700)\n",
    "leap_year(1800)\n",
    "leap_year(1900)\n",
    "leap_year(1600)\n",
    "leap_year(2000)\n",
    "leap_year(2001)\n",
    "leap_year(2020)"
   ]
  },
  {
   "cell_type": "markdown",
   "metadata": {},
   "source": [
    "## Ejercicio 2"
   ]
  },
  {
   "cell_type": "markdown",
   "metadata": {},
   "source": [
    "Escriba la función que dada una cantidad de dinero calcule el desglose en billetes y monedas, empezando por el billete mayor al menor y contemabldo solo las monedas de 2€ y 1€. Por ejemplo, para la cantidad de dinero, 1378€\n",
    "* 2 billetes de 500€\n",
    "* 1 billete  de 200€\n",
    "* 1 billete  de 100€\n",
    "* 1 billete  de  50€\n",
    "* 1 billete  de  20€\n",
    "* 1 billete  de   5€\n",
    "* 1 moneda   de   2€\n",
    "* 1 moneda   de   1€"
   ]
  },
  {
   "cell_type": "code",
   "execution_count": 3,
   "metadata": {},
   "outputs": [],
   "source": [
    "def cal_bills_coins(euros):\n",
    "    # Creamos las variables con los valores de los billetes y las monedas.\n",
    "    billete_500 = 500\n",
    "    billete_200 = 200\n",
    "    billete_100 = 100\n",
    "    billete_50 = 50\n",
    "    billete_20 = 20\n",
    "    billete_5 = 5\n",
    "    moneda_2 = 2\n",
    "    moneda_1 = 1\n",
    "    # Creamos una lista con estas variables.\n",
    "    list_money = [billete_500, billete_200, billete_100, billete_50, billete_20, billete_5, moneda_2, moneda_1]\n",
    "    \n",
    "    # Creamos algunas variables que se corresponderán con el dinero total, el índice y un contador.\n",
    "    total_money = euros\n",
    "    index = 0\n",
    "    contador = 0\n",
    "    result = \"\"\n",
    "    \n",
    "    while total_money > 0:\n",
    "        if index > 7:\n",
    "            break;\n",
    "        while total_money > 0:\n",
    "            total_money -= list_money[index]\n",
    "            contador += 1\n",
    "        else:\n",
    "            if total_money != 0:\n",
    "                total_money += list_money[index]\n",
    "                contador -= 1\n",
    "            if (index == 0 or index == 1 or index == 2 or index == 3 or index == 4 or index == 5) and (contador > 0):\n",
    "                result += f\"{contador} billetes de {list_money[index]}€ \\n\"\n",
    "            elif (index == 6 or index == 7) and (contador > 0):\n",
    "                result += f\"{contador} moneda de {list_money[index]}€ \\n\"\n",
    "            contador = 0\n",
    "            index += 1\n",
    "    return result"
   ]
  },
  {
   "cell_type": "code",
   "execution_count": 4,
   "metadata": {},
   "outputs": [
    {
     "name": "stdout",
     "output_type": "stream",
     "text": [
      "2 billetes de 500€ \n",
      "1 billetes de 200€ \n",
      "1 billetes de 100€ \n",
      "1 billetes de 50€ \n",
      "1 billetes de 20€ \n",
      "1 billetes de 5€ \n",
      "1 moneda de 2€ \n",
      "1 moneda de 1€ \n",
      "\n"
     ]
    }
   ],
   "source": [
    "print(cal_bills_coins(1378))"
   ]
  },
  {
   "cell_type": "code",
   "execution_count": 5,
   "metadata": {},
   "outputs": [
    {
     "name": "stdout",
     "output_type": "stream",
     "text": [
      "1 billetes de 200€ \n",
      "1 billetes de 50€ \n",
      "\n"
     ]
    }
   ],
   "source": [
    "print(cal_bills_coins(250))"
   ]
  },
  {
   "cell_type": "code",
   "execution_count": 6,
   "metadata": {},
   "outputs": [
    {
     "name": "stdout",
     "output_type": "stream",
     "text": [
      "45 billetes de 500€ \n",
      "1 moneda de 2€ \n",
      "1 moneda de 1€ \n",
      "\n"
     ]
    }
   ],
   "source": [
    "print(cal_bills_coins(22503))"
   ]
  },
  {
   "cell_type": "markdown",
   "metadata": {},
   "source": [
    "## Ejercicio 3"
   ]
  },
  {
   "cell_type": "markdown",
   "metadata": {},
   "source": [
    "Un banco está intersado en lelvar el registro de clientes que solicitan una extracción de dinero de un cajero, para ello el cliente debe introducir la cantidad de dinero a extraer del cajero y éste le devolverá el desglose de dicha cantidad en billetede de 200 a 10 euros. \n",
    "\n",
    "Al finalizar la opreación, se debe quedar en un fichero de registro una traza de los billetes dispensado al cliente junto con su nombre, sus apellidos y la *hora local* en el que se realizó dicha operacion. Guarda el fichero en el formato que más comodo te resulte.\n",
    "\n",
    "Por ejemplo, para la cantidad de dinero, 370€\n",
    "* 1 billete  de 200€\n",
    "* 1 billete  de 100€\n",
    "* 1 billete  de  50€\n",
    "* 1 billete  de  20€\n"
   ]
  },
  {
   "cell_type": "code",
   "execution_count": 9,
   "metadata": {},
   "outputs": [],
   "source": [
    "# Importamos la librería que utilizaremos.\n",
    "import os\n",
    "from datetime import datetime\n",
    "\n",
    "# Calculamos la función.\n",
    "def cal_money_and_record():\n",
    "    \n",
    "    # Creamos las variables.\n",
    "    total_money = int(input(\"Introduzca la cantidad que desee extraer por favor\"))\n",
    "    user_name = input(\"Introduzca su nombre por favor\")\n",
    "    user_lastname = input(\"Introduzca sus apellidos por favor\")\n",
    "    partitioned_money = cal_bills_coins(total_money) \n",
    "    now = datetime.now()\n",
    "    \n",
    "    file_user_extraction = open(\"file_user_extraction.txt\",\"w\")\n",
    "    # Escribimos en el fichero el header y añadimos un salto de línea. \n",
    "    file_user_extraction.write(f\"Name: {user_name}\" + os.linesep + f\"Last Name: {user_lastname}\" + os.linesep + f\"El dinero total a extraer es: {total_money}€\" + os.linesep + f\"Hora local: {now.time()}\" + os.linesep + str(partitioned_money))\n",
    "    \n",
    "    # Cerramos el fichero.\n",
    "    file_user_extraction.close()"
   ]
  },
  {
   "cell_type": "code",
   "execution_count": 11,
   "metadata": {},
   "outputs": [
    {
     "name": "stdout",
     "output_type": "stream",
     "text": [
      "Introduzca la cantidad que desee extraer por favor370\n",
      "Introduzca su nombre por favorLucía\n",
      "Introduzca sus apellidos por favorRodríguez López\n"
     ]
    }
   ],
   "source": [
    "# Llamamos a la función.\n",
    "cal_money_and_record()"
   ]
  },
  {
   "cell_type": "code",
   "execution_count": 12,
   "metadata": {},
   "outputs": [
    {
     "name": "stdout",
     "output_type": "stream",
     "text": [
      "Name: Lucía\n",
      "\n",
      "\n",
      "\n",
      "Last Name: Rodríguez López\n",
      "\n",
      "\n",
      "\n",
      "El dinero total a extraer es: 370€\n",
      "\n",
      "\n",
      "\n",
      "Hora local: 12:56:50.421064\n",
      "\n",
      "\n",
      "\n",
      "1 billetes de 200€ \n",
      "\n",
      "1 billetes de 100€ \n",
      "\n",
      "1 billetes de 50€ \n",
      "\n",
      "1 billetes de 20€ \n",
      "\n"
     ]
    }
   ],
   "source": [
    "# Mostramos el resultado para comprobar que se ha generado correctamente.\n",
    "with open(\"file_user_extraction.txt\") as file_user_extraction:\n",
    "    for line in file_user_extraction:\n",
    "        print(line)"
   ]
  },
  {
   "cell_type": "code",
   "execution_count": null,
   "metadata": {},
   "outputs": [],
   "source": []
  }
 ],
 "metadata": {
  "kernelspec": {
   "display_name": "Python 3",
   "language": "python",
   "name": "python3"
  },
  "language_info": {
   "codemirror_mode": {
    "name": "ipython",
    "version": 3
   },
   "file_extension": ".py",
   "mimetype": "text/x-python",
   "name": "python",
   "nbconvert_exporter": "python",
   "pygments_lexer": "ipython3",
   "version": "3.8.5"
  }
 },
 "nbformat": 4,
 "nbformat_minor": 2
}
