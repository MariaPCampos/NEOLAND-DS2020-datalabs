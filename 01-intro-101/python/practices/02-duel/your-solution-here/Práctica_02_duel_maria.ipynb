{
 "cells": [
  {
   "cell_type": "markdown",
   "metadata": {},
   "source": [
    "# Duelo de magos\n",
    "Estás presenciando una batalla épica entre dos poderosos magos: Gandalf y Saruman. Cada mago tiene 10 hechizos de potencia variable en su mente y los van a lanzar uno tras otro. El ganador del duelo será el que gane más de esos choques entre hechizos. Los hechizos se representan como una lista de 10 números enteros cuyo valor equivale a la potencia del hechizo. \n",
    "```\n",
    "gandalf = [10, 11, 13, 30, 22, 11, 10, 33, 22, 22]\n",
    "saruman = [23, 66, 12, 43, 12, 10, 44, 23, 12, 17]\n",
    "```\n",
    "Por ejemplo: \n",
    "1. El primer choque lo gana Saruman: 10 contra 23, gana el 23\n",
    "2. El segundo choque gana Saruman: 11 contra 66, gana el 66\n",
    "3. etc.\n",
    "\n",
    "\n",
    "Vas a crear dos variables, una por cada mago, donde se almacenarán la suma de choques de hechizos ganados. En función de qué variable sea mayor al final del duelo, mostrarás por pantalla uno de los tres siguientes resultados: \n",
    "* Gandalf gana\n",
    "* Saruman gana\n",
    "* Empate\n",
    "\n",
    "\n",
    "\n",
    "## Objetivos\n",
    "\n",
    "1. Tratamiento de listas\n",
    "2. Uso de bucle **for**\n",
    "3. Uso de condicionales **if-elif-else**\n",
    "4. Uso de las funciones **range(), len()**\n",
    "5. Imprimir por consola"
   ]
  },
  {
   "cell_type": "markdown",
   "metadata": {},
   "source": [
    "## 1.1. Ejercicio resuelto con while"
   ]
  },
  {
   "cell_type": "code",
   "execution_count": 2,
   "metadata": {},
   "outputs": [
    {
     "name": "stdout",
     "output_type": "stream",
     "text": [
      "Gandalf win against Saruman 6 to 4\n"
     ]
    }
   ],
   "source": [
    "# Declaramos las variables.\n",
    "won_spells_gandalf = 0\n",
    "won_spells_saruman = 0\n",
    "clashs = 0\n",
    "\n",
    "\n",
    "# Declaramos las listas.\n",
    "gandalf = [10, 11, 13, 30, 22, 11, 10, 33, 22, 22]\n",
    "saruman = [23, 66, 12, 43, 12, 10, 44, 23, 12, 17]\n",
    "\n",
    "\n",
    "# Creamos un bucle while que se repetirá hasta que los enfrentamientos lleguen a diez, usando el len sobre una de las listas\n",
    "# garantizamos que esto se cumpla ya que las listas contienen diez elementos cada una.\n",
    "while clashs < len(gandalf):\n",
    "        if gandalf[clashs] > saruman[clashs]:\n",
    "            won_spells_gandalf += 1\n",
    "            clashs += 1\n",
    "        elif gandalf[clashs] < saruman[clashs]:\n",
    "            won_spells_saruman += 1\n",
    "            clashs += 1\n",
    "        else:\n",
    "            clashs += 1\n",
    "\n",
    "            \n",
    "# Con los condicionales if-elif-else establecemos las condiciones para saber qué mago ha ganado en función de qué variable\n",
    "# es mayor al acabar el bucle while.\n",
    "if won_spells_gandalf > won_spells_saruman:\n",
    "    print(\"Gandalf win against Saruman \" + str(won_spells_gandalf) + \" to \" + str(won_spells_saruman))\n",
    "elif won_spells_gandalf < won_spells_saruman:\n",
    "    print(\"Saruman win against Gandalf \" + str(won_spells_saruman) + \" to \" + str(won_spells_gandalf))\n",
    "else:\n",
    "    print(\"Draw \" + str(won_spells_gandalf) + \" to \" + str(won_spells_saruman))"
   ]
  },
  {
   "cell_type": "markdown",
   "metadata": {},
   "source": [
    "## 1.2. Ejercicio resuelto con for y range\n",
    "**Nota:** *Incluyo esta segunda opción de resolución del ejercicio adaptada con el for y el range porque entiendo que es la que se buscaba en base a los objetivos del ejercicio, aunque yo inicialmente la que conseguí sacar con menos dificultad fue la opción primera con el while y por eso es la que incluí en primer lugar.*"
   ]
  },
  {
   "cell_type": "code",
   "execution_count": 1,
   "metadata": {},
   "outputs": [
    {
     "name": "stdout",
     "output_type": "stream",
     "text": [
      "Gandalf win against Saruman 6 to 4\n"
     ]
    }
   ],
   "source": [
    "won_spells_gandalf = 0\n",
    "won_spells_saruman = 0\n",
    "clashs = 0\n",
    "\n",
    "gandalf = [10, 11, 13, 30, 22, 11, 10, 33, 22, 22]\n",
    "saruman = [23, 66, 12, 43, 12, 10, 44, 23, 12, 17]\n",
    "\n",
    "for clashs in range(len(gandalf)):\n",
    "        if gandalf[clashs] > saruman[clashs]:\n",
    "            won_spells_gandalf += 1\n",
    "            clashs += 1\n",
    "        elif gandalf[clashs] < saruman[clashs]:\n",
    "            won_spells_saruman += 1\n",
    "            clashs += 1\n",
    "        else:\n",
    "            clashs += 1\n",
    "\n",
    "\n",
    "if won_spells_gandalf > won_spells_saruman:\n",
    "    print(\"Gandalf win against Saruman \" + str(won_spells_gandalf) + \" to \" + str(won_spells_saruman))\n",
    "elif won_spells_gandalf < won_spells_saruman:\n",
    "    print(\"Saruman win against Gandalf \" + str(won_spells_saruman) + \" to \" + str(won_spells_gandalf))\n",
    "else:\n",
    "    print(\"Draw \" + str(won_spells_gandalf) + \" to \" + str(won_spells_saruman))"
   ]
  }
 ],
 "metadata": {
  "kernelspec": {
   "display_name": "Python 3",
   "language": "python",
   "name": "python3"
  },
  "language_info": {
   "codemirror_mode": {
    "name": "ipython",
    "version": 3
   },
   "file_extension": ".py",
   "mimetype": "text/x-python",
   "name": "python",
   "nbconvert_exporter": "python",
   "pygments_lexer": "ipython3",
   "version": "3.8.5"
  }
 },
 "nbformat": 4,
 "nbformat_minor": 4
}
