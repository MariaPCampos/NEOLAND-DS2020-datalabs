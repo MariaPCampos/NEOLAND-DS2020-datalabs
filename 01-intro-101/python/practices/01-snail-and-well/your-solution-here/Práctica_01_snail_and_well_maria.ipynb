{
 "cells": [
  {
   "cell_type": "markdown",
   "metadata": {},
   "source": [
    "# Caracol y el pozo\n",
    "\n",
    "Un caracol cae en el fondo de un pozo de 125 cm. Cada día el caracol sube 30 cm. pero por la noche, mientras duerme, resbala 20 cm debido a que las paredes son húmedas. ¿Cuantos días tarda en escapar del pozo?\n",
    "\n",
    "https://www.vix.com/es/btg/curiosidades/59215/acertijos-matematicos-el-caracol-en-el-pozo-facil\n",
    "\n",
    "## Objetivos\n",
    "\n",
    "1. Tratamiento de variables\n",
    "2. Uso de bucle **while**\n",
    "3. Uso de condicionales **if-else**\n",
    "4. Imprimir por consola\n",
    "\n",
    "## Bonus\n",
    "La distancia recorrida por el caracol viene ahora definida por una lista. \n",
    "```\n",
    "avance_cm = [30, 21, 33, 77, 44, 45, 23, 45, 12, 34, 55]\n",
    "```\n",
    "¿Cuánto tarda en subir el pozo?\n",
    "¿Cuál es su máximo de desplazamiento en un día? ¿Y su mínimo?\n",
    "¿Cuál es su media de velocidad durante el día?\n",
    "¿Cuál es la desviación típica de su desplazamiento durante el día?"
   ]
  },
  {
   "cell_type": "markdown",
   "metadata": {},
   "source": [
    "## 1.1. Ejercicio sin Bonus\n",
    "\n",
    "¿Cuántos días tarda en escapar del pozo el caracol? **Solución**: ***El caracol tardó 11 días en salir del pozo.***"
   ]
  },
  {
   "cell_type": "code",
   "execution_count": 28,
   "metadata": {},
   "outputs": [
    {
     "name": "stdout",
     "output_type": "stream",
     "text": [
      "The snail took 11 days to climb the well\n"
     ]
    }
   ],
   "source": [
    "# Declaramos las variables.\n",
    "needed_distance = 0\n",
    "days = 0\n",
    "\n",
    "# Utilizamos el while hasta que la variable needed_distance alcance el valor de 125, que es la distancia que debe recorrer el\n",
    "# caracol para subir el pozo, cada día sumamos 30 a dicha variable y añadimos 1 a nuestro contador, la variable \"days\", además\n",
    "# mientras la variable needed_distance sea menor que 125, restamos 20 por el resbalo del caracol durante la noche.\n",
    "\n",
    "while needed_distance < 125:\n",
    "    needed_distance += 30\n",
    "    days += 1\n",
    "    if needed_distance < 125:\n",
    "        needed_distance -= 20\n",
    "else:\n",
    "    print(\"The snail took \" + str(days) + \" days to climb the well\")"
   ]
  },
  {
   "cell_type": "markdown",
   "metadata": {},
   "source": [
    "## 1.2. Ejercicio con Bonus\n",
    "\n",
    "¿Cuánto tarda en subir el pozo el caracol? **Solución**: ***El caracol tardó 5 días en salir del pozo.***\n",
    "\n",
    "¿Cuál es su máximo de desplazamiento en un día? **Solución**: ***El máximo es 77.***\n",
    "\n",
    "¿Y su mínimo? **Solución**: ***El mínimo es 21.***\n",
    "\n",
    "¿Cuál es la media de velocidad durante el día del caracol? **Solución**: ***La velocidad media del caracol es de 41 cm.***\n",
    "\n",
    "¿Y la desviación típica de su desplazamiento durante el día? **Solución**: ***La desviación típica es 19,44.***\n"
   ]
  },
  {
   "cell_type": "code",
   "execution_count": 59,
   "metadata": {},
   "outputs": [
    {
     "name": "stdout",
     "output_type": "stream",
     "text": [
      "The snail took 5 days to climb the well\n",
      "The maximum is 77\n",
      "The minimum is 21\n",
      "The average speed during the day is 41 cm.\n",
      "The standard deviation is 19.44222209522358\n"
     ]
    }
   ],
   "source": [
    "# Declaramos las variables, añadimos la lista de avance del caracol.\n",
    "\n",
    "needed_distance = 0\n",
    "days = 0\n",
    "avance_cm = [30, 21, 33, 77, 44, 45, 23, 45, 12, 34, 55]\n",
    "\n",
    "\n",
    "while needed_distance < 125:\n",
    "        needed_distance += avance_cm[days]\n",
    "        days += 1\n",
    "        if needed_distance < 125:\n",
    "            needed_distance -= 20\n",
    "print(\"The snail took \" + str(days) + \" days to climb the well\")\n",
    "\n",
    "\n",
    "# Calculamos el máximo y el mínimo, estableciendo en primer lugar las variables que contendrán estos valores.\n",
    "# Posteriormente con un bucle for, recorremos la lista de avance_cm y, si el valor es mayor que el maximo que\n",
    "# registra la variable, se sustituira por ese valor. Lo mismo se hara con el minimo aplicado al minimo valor.\n",
    "\n",
    "maximum_displacement = 0\n",
    "minimum_displacement = avance_cm[0] # Iniciamos la variable con el primer valor de la lista porque si asignamos\n",
    "                                     # cero siempre sera menor que la lista.\n",
    "\n",
    "for i in avance_cm[0:days]:\n",
    "    if i > maximum_displacement:\n",
    "        maximum_displacement = i\n",
    "    if i < minimum_displacement:\n",
    "        minimum_displacement = i\n",
    "print(\"The maximum is \" + str(maximum_displacement))\n",
    "print(\"The minimum is \" + str(minimum_displacement))\n",
    "\n",
    "# Calculamos la media.\n",
    "\n",
    "contador = 0\n",
    "for i in avance_cm[0:days]:\n",
    "    contador += i\n",
    "\n",
    "average = int(contador/len(avance_cm[0:days]))\n",
    "print(\"The average speed during the day is \" + str(average) + \" cm.\")\n",
    "\n",
    "# Calculamos la desviacion tipica.\n",
    "\n",
    "import math\n",
    "\n",
    "result = 0\n",
    "for i in avance_cm[0:days]:\n",
    "     result += (i - average)**2\n",
    "\n",
    "std_dev = math.sqrt(result/len(avance_cm[0:days]))\n",
    "\n",
    "print(\"The standard deviation is \" + str(std_dev))"
   ]
  }
 ],
 "metadata": {
  "kernelspec": {
   "display_name": "Python 3",
   "language": "python",
   "name": "python3"
  },
  "language_info": {
   "codemirror_mode": {
    "name": "ipython",
    "version": 3
   },
   "file_extension": ".py",
   "mimetype": "text/x-python",
   "name": "python",
   "nbconvert_exporter": "python",
   "pygments_lexer": "ipython3",
   "version": "3.7.6"
  }
 },
 "nbformat": 4,
 "nbformat_minor": 4
}
