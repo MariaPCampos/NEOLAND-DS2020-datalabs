{
 "cells": [
  {
   "cell_type": "markdown",
   "metadata": {},
   "source": [
    "Programación para *Data Science*\n",
    "============================\n",
    "\n",
    "Intro101 - 05.1: Conceptos avanzados de Python\n",
    "--------------------------------------\n",
    "\n",
    "En este Notebook encontraréis dos conjuntos de ejercicios: un primer conjunto de ejercicios para practicar y que no puntuan, pero que recomendamos intentar resolver y un segundo conjunto que evaluaremos como actividad.\n",
    "\n",
    "\n",
    "Además, veréis que todas las actividades tienen una etiqueta que indica los recursos necesarios para llevarla a cabo. Hay tres posibles etiquetas:\n",
    "\n",
    "* <span style=\"font-family: Courier New; background-color: #82b74b; color: #000000; padding: 3px; \">NM</span> **Sólo materiales**: las herramientas necesarias para realizar la actividad se pueden encontrar en los materiales de la asignatura. \n",
    "\n",
    "* <span style=\"font-family: Courier New; background-color: #ffcc5c; color: #000000; padding: 3px; \">EG</span> **Consulta externa guiada**: la actividad puede requerir hacer uso de herramientas que no se encuentran en los materiales de la asignatura, pero el enunciado contiene indicaciones de dónde o cómo encontrar la información adicional necesaria para resolver la actividad.\n",
    "\n",
    "* <span style=\"font-family: Courier New; background-color: #f2ae72; color: #000000; padding: 3px; \">EI</span> **Consulta externa independente**: la actividad puede requerir hacer uso de herramientas que no se encuentran en los materiales de la asignatura, y el enunciado puede no incluir la descripción de dónde o cómo encontrar esta información adicional. Será necesario que el estudiante busque esta información utilizando los recursos que se han explicado en la asignatura.\n",
    "\n",
    "Es importante notar que estas etiquetas no indican el nivel de dificultad del ejercicio, sino únicamente la necesidad de consulta de documentación externa para su resolución. Además, recordad que las **etiquetas son informativas**, pero podréis consultar referencias externas en cualquier momento (aunque no se indique explícitamente) o puede ser que podáis hacer una actividad sin consultar ningún tipo de documentación. Por ejemplo, para resolver una actividad que sólo requiera los materiales de la asignatura, puedéis consultar referencias externas si queréis, ya sea tanto para ayudaros en la resolución como para ampliar el conocimiento!\n"
   ]
  },
  {
   "cell_type": "markdown",
   "metadata": {},
   "source": [
    "---\n",
    "\n",
    "## Ejercicios y preguntas teóricas para la actividad\n",
    "\n",
    "A continuación, encontraréis los **ejercicios y preguntas teóricas que debéis completar en esta actividad** y que forman parte de la evaluación de esta unidad."
   ]
  },
  {
   "cell_type": "markdown",
   "metadata": {},
   "source": [
    "### Ejercicio 1\n",
    "\n",
    "Un número primo es aquél que solo es divisible por él mismo y por 1.\n",
    "\n",
    "a) Escribe un código que compruebe si un número `x = 15` es solo divisible por 1 o por el mismo.  Escribe este código usando un iterador (un `for` o un `while`) que barra todos los valores desde `2` a `x-1`. Crea una variable `divisible`  que tenga por defecto valor `False` y asigne el valor `True` si a lo largo de la iteración encuentra un número natural divisible. Puedes usar el operador modulo `a % b` para saber si un numero `b` es divisible por `a`.\n",
    "\n",
    "<span style=\"font-family: Courier New; background-color: #82b74b; color: #000000; padding: 2px; \">NM</span>"
   ]
  },
  {
   "cell_type": "code",
   "execution_count": 1,
   "metadata": {},
   "outputs": [],
   "source": [
    "x = 15\n",
    "divisible = False\n",
    "for i in range(2, x - 1):\n",
    "    if x % i == 0:\n",
    "        divisible = True"
   ]
  },
  {
   "cell_type": "markdown",
   "metadata": {},
   "source": [
    "\n",
    "b) Convierte tu código anterior en una función que compruebe si el número del argumento es primo o no, devolviendo True is es primo y False si no es primo. Comprueba tu función con los valores 492366587, 492366585, 48947 y 2,\n",
    "\n",
    "<span style=\"font-family: Courier New; background-color: #82b74b; color: #000000; padding: 2px; \">NM</span>"
   ]
  },
  {
   "cell_type": "code",
   "execution_count": 2,
   "metadata": {},
   "outputs": [
    {
     "name": "stdout",
     "output_type": "stream",
     "text": [
      "True\n",
      "False\n",
      "True\n",
      "True\n"
     ]
    }
   ],
   "source": [
    "# Definimos la función.\n",
    "def function_prime(number):\n",
    "    prime = True\n",
    "    for i in range(2, number - 1):\n",
    "        if number % i == 0:\n",
    "            prime = False\n",
    "    return prime\n",
    "\n",
    "# Comprobamos la función.\n",
    "print(function_prime(492366587))\n",
    "print(function_prime(492366585))\n",
    "print(function_prime(48947))\n",
    "print(function_prime(2))"
   ]
  },
  {
   "cell_type": "markdown",
   "metadata": {},
   "source": [
    "\n",
    "c) En el cálculo de la función anterior, una vez se ha encontrado un número que es divisible dentro del rango ya no tiene sentido comprobar el resto de números del rango. Por ejemplo si 10 ya es divisble entre 2, ya no hace falta probar de 3 en adelante pues ya sabemos que el número no es primo. \n",
    "\n",
    "Modifica la función anterior de la siguiente forma: \n",
    "- Una vez se encuentra el divisor, la iteración se interrumpe para no probar el resto de enteros. \n",
    "- La función devuelve\n",
    "    - **Si es primo**: True\n",
    "    - **Si no es primo**, el primer divisor mayor que 1.\n",
    "    \n",
    "Puedes hacer uso del comando *break* dentro de un bucle para interrumpir este, puedes consultar más información sobre break en la documentación de python [aquí](https://docs.python.org/2/tutorial/controlflow.html).\n",
    "\n",
    "Comprueba tu función con los valores 492366585, 492366587, 48947 y 2,\n",
    "\n",
    "<span style=\"font-family: Courier New; background-color: #82b74b; color: #000000; padding: 2px; \">NM</span>"
   ]
  },
  {
   "cell_type": "code",
   "execution_count": 3,
   "metadata": {},
   "outputs": [
    {
     "name": "stdout",
     "output_type": "stream",
     "text": [
      "True\n",
      "3\n",
      "True\n",
      "True\n"
     ]
    }
   ],
   "source": [
    "# Definimos la función.\n",
    "def function_prime(number):\n",
    "    prime = True\n",
    "    for i in range(2, number - 1):\n",
    "        if number % i == 0:\n",
    "            prime = i\n",
    "            break\n",
    "    return prime\n",
    "\n",
    "# Comprobamos la función.\n",
    "print(function_prime(492366587))\n",
    "print(function_prime(492366585))\n",
    "print(function_prime(48947))\n",
    "print(function_prime(2))"
   ]
  },
  {
   "cell_type": "markdown",
   "metadata": {},
   "source": [
    "### Ejercicio 2\n",
    "\n",
    "La Covid-19 es una enfermedad producida por la infección del virus SARS-CoV-2. La infección es transmisible de persona a persona y su contagiosidad depende de la cantidad del virus en las vías respiratorias. Si cada persona contagiada transmite la enfermedad a $\\beta$ contactos en promedio por periodo de tiempo $t$, es posible estimar la evolución del contagio con un modelo matemático sencillo.\n",
    "\n",
    "Para $t=1$día, las transmisiones en España se han estimado a partir de su histórico de las semanas de Febrero y Marzo del 2020 una $\\beta = 0.35$ transmissiones por día por infectado.\n",
    "\n",
    "Durante un periodo de tiempo (por ejempo un día $d$) la tasa de nuevos contagios se puede estimar como  una proporción al número de contagiados del periodo anterior $N$: \n",
    "\n",
    "$$ \\Delta N = N_{1} - N = \\beta \\cdot N$$ (1)\n",
    "\n",
    "Por tanto, podemos proyectar el número futuro de afectados como \n",
    "\n",
    "$$ N_{1} = N + \\beta \\cdot N = (1+\\beta) \\cdot N$$ (2) \n",
    "\n",
    "En dos días:\n",
    "\n",
    "$$ N_{2} = (1+\\beta) \\cdot N_{1} = (1+\\beta)^2 \\cdot N$$  (3)\n",
    "\n",
    "Y en general en D días tendremos \n",
    "\n",
    "$$N_{D} = (1+\\beta)^D \\cdot N$$  (4)\n",
    " \n",
    "Asumiendo este sencillo modelo: \n",
    "\n",
    "a) Implementa una función de dos parámetros (N: población infectada inicial, D: número de días), que devuelva el cálculo de afectados para D días siguiendo la ecuación (4). Suponiendo una población afectada de 4250 (población afectada en españa a día 13 de Marzo de 2020), usa la función para calcular la población estimada en 1, 2, 7 y 30 días. \n",
    "\n",
    "<span style=\"font-family: Courier New; background-color: #82b74b; color: #000000; padding: 2px; \">NM</span>"
   ]
  },
  {
   "cell_type": "code",
   "execution_count": 4,
   "metadata": {},
   "outputs": [
    {
     "name": "stdout",
     "output_type": "stream",
     "text": [
      "5737.5\n",
      "7745.625000000001\n",
      "34731.64149433595\n",
      "34546335.38087164\n"
     ]
    }
   ],
   "source": [
    "# Creamos una función de dos parámetros (donde N es la población infectada inicial y D el número de días), que devuelva el\n",
    "# cálculo de infectados para D días siguiendo la ecuación '𝑁𝐷=(1+𝛽)𝐷⋅𝑁'\n",
    "\n",
    "def cal_infected(N, D):\n",
    "    \"\"\"\n",
    "    Calcula el número de infectados virus SARS-CoV-2 en base a un modelo de expansión de la enfermedad.\n",
    "    \"\"\"\n",
    "    beta = 0.35\n",
    "    total_infected = ((1 + beta)**D) * N\n",
    "    return total_infected\n",
    "\n",
    "# Probamos la función con una población concreta y varios números de días distintos.\n",
    "print(cal_infected(4250, 1))\n",
    "print(cal_infected(4250, 2))\n",
    "print(cal_infected(4250, 7))\n",
    "print(cal_infected(4250, 30))"
   ]
  },
  {
   "cell_type": "markdown",
   "metadata": {},
   "source": [
    "\n",
    "b) Sabiendo que los Servicios de Medicina Intensiva (SMI) disponen de 3363 camas para enfermos graves, y suponiendo que un 10% de los afectados por el covid-19 requerirán de SMI y una supervivencia del 2,5% (Exitus), escribe un código que calcule:\n",
    "- El día en curso (Día)\n",
    "- El total de afectados por el virus para cada día d (Afectados)\n",
    "- El total de ingresados en SMI por el virus para cada día d (Críticos)\n",
    "- El total de Exitus por el virus para cada día d (Exitus)\n",
    "- Si los servicios de SMI no pueden aceptar los ingresados para cada día $d$ (Estado: indicando Saturación/No Saturación)\n",
    "\n",
    "Imprime en pantalla la información de cada día durante una simulación de tres semanas, suponiendo que no hay recuperaciones, con una población afectada inicial 4250 y una $\\beta = 0.35$ constante. \n",
    "\n",
    "\n",
    "<span style=\"font-family: Courier New; background-color: #82b74b; color: #000000; padding: 2px; \">NM</span>"
   ]
  },
  {
   "cell_type": "code",
   "execution_count": 5,
   "metadata": {},
   "outputs": [
    {
     "name": "stdout",
     "output_type": "stream",
     "text": [
      "Dia: 0\n",
      "El total actual de infectados por el virus es de: 4250\n",
      "El total actual de personas en estado crítico en el hospital es de: 425\n",
      "El total actual de personas curadas tras haber sido infectadas por el virus es de: 106\n",
      "El hospital no se encuentra saturado, con un total de casos críticos de: 425\n",
      "Dia: 1\n",
      "El total actual de infectados por el virus es de: 5737\n",
      "El total actual de personas en estado crítico en el hospital es de: 573\n",
      "El total actual de personas curadas tras haber sido infectadas por el virus es de: 143\n",
      "El hospital no se encuentra saturado, con un total de casos críticos de: 573\n",
      "Dia: 2\n",
      "El total actual de infectados por el virus es de: 7745\n",
      "El total actual de personas en estado crítico en el hospital es de: 774\n",
      "El total actual de personas curadas tras haber sido infectadas por el virus es de: 193\n",
      "El hospital no se encuentra saturado, con un total de casos críticos de: 774\n",
      "Dia: 3\n",
      "El total actual de infectados por el virus es de: 10456\n",
      "El total actual de personas en estado crítico en el hospital es de: 1045\n",
      "El total actual de personas curadas tras haber sido infectadas por el virus es de: 261\n",
      "El hospital no se encuentra saturado, con un total de casos críticos de: 1045\n",
      "Dia: 4\n",
      "El total actual de infectados por el virus es de: 14116\n",
      "El total actual de personas en estado crítico en el hospital es de: 1411\n",
      "El total actual de personas curadas tras haber sido infectadas por el virus es de: 352\n",
      "El hospital no se encuentra saturado, con un total de casos críticos de: 1411\n",
      "Dia: 5\n",
      "El total actual de infectados por el virus es de: 19057\n",
      "El total actual de personas en estado crítico en el hospital es de: 1905\n",
      "El total actual de personas curadas tras haber sido infectadas por el virus es de: 476\n",
      "El hospital no se encuentra saturado, con un total de casos críticos de: 1905\n",
      "Dia: 6\n",
      "El total actual de infectados por el virus es de: 25727\n",
      "El total actual de personas en estado crítico en el hospital es de: 2572\n",
      "El total actual de personas curadas tras haber sido infectadas por el virus es de: 643\n",
      "El hospital no se encuentra saturado, con un total de casos críticos de: 2572\n",
      "Dia: 7\n",
      "El total actual de infectados por el virus es de: 34731\n",
      "El total actual de personas en estado crítico en el hospital es de: 3473\n",
      "El total actual de personas curadas tras haber sido infectadas por el virus es de: 868\n",
      "El hospital se encuentra saturado, con un total de casos críticos de: 3473\n",
      "Dia: 8\n",
      "El total actual de infectados por el virus es de: 46887\n",
      "El total actual de personas en estado crítico en el hospital es de: 4688\n",
      "El total actual de personas curadas tras haber sido infectadas por el virus es de: 1172\n",
      "El hospital se encuentra saturado, con un total de casos críticos de: 4688\n",
      "Dia: 9\n",
      "El total actual de infectados por el virus es de: 63298\n",
      "El total actual de personas en estado crítico en el hospital es de: 6329\n",
      "El total actual de personas curadas tras haber sido infectadas por el virus es de: 1582\n",
      "El hospital se encuentra saturado, con un total de casos críticos de: 6329\n",
      "Dia: 10\n",
      "El total actual de infectados por el virus es de: 85452\n",
      "El total actual de personas en estado crítico en el hospital es de: 8545\n",
      "El total actual de personas curadas tras haber sido infectadas por el virus es de: 2136\n",
      "El hospital se encuentra saturado, con un total de casos críticos de: 8545\n",
      "Dia: 11\n",
      "El total actual de infectados por el virus es de: 115361\n",
      "El total actual de personas en estado crítico en el hospital es de: 11536\n",
      "El total actual de personas curadas tras haber sido infectadas por el virus es de: 2884\n",
      "El hospital se encuentra saturado, con un total de casos críticos de: 11536\n",
      "Dia: 12\n",
      "El total actual de infectados por el virus es de: 155737\n",
      "El total actual de personas en estado crítico en el hospital es de: 15573\n",
      "El total actual de personas curadas tras haber sido infectadas por el virus es de: 3893\n",
      "El hospital se encuentra saturado, con un total de casos críticos de: 15573\n",
      "Dia: 13\n",
      "El total actual de infectados por el virus es de: 210246\n",
      "El total actual de personas en estado crítico en el hospital es de: 21024\n",
      "El total actual de personas curadas tras haber sido infectadas por el virus es de: 5256\n",
      "El hospital se encuentra saturado, con un total de casos críticos de: 21024\n",
      "Dia: 14\n",
      "El total actual de infectados por el virus es de: 283832\n",
      "El total actual de personas en estado crítico en el hospital es de: 28383\n",
      "El total actual de personas curadas tras haber sido infectadas por el virus es de: 7095\n",
      "El hospital se encuentra saturado, con un total de casos críticos de: 28383\n",
      "Dia: 15\n",
      "El total actual de infectados por el virus es de: 383173\n",
      "El total actual de personas en estado crítico en el hospital es de: 38317\n",
      "El total actual de personas curadas tras haber sido infectadas por el virus es de: 9579\n",
      "El hospital se encuentra saturado, con un total de casos críticos de: 38317\n",
      "Dia: 16\n",
      "El total actual de infectados por el virus es de: 517284\n",
      "El total actual de personas en estado crítico en el hospital es de: 51728\n",
      "El total actual de personas curadas tras haber sido infectadas por el virus es de: 12932\n",
      "El hospital se encuentra saturado, con un total de casos críticos de: 51728\n",
      "Dia: 17\n",
      "El total actual de infectados por el virus es de: 698333\n",
      "El total actual de personas en estado crítico en el hospital es de: 69833\n",
      "El total actual de personas curadas tras haber sido infectadas por el virus es de: 17458\n",
      "El hospital se encuentra saturado, con un total de casos críticos de: 69833\n",
      "Dia: 18\n",
      "El total actual de infectados por el virus es de: 942750\n",
      "El total actual de personas en estado crítico en el hospital es de: 94275\n",
      "El total actual de personas curadas tras haber sido infectadas por el virus es de: 23568\n",
      "El hospital se encuentra saturado, con un total de casos críticos de: 94275\n",
      "Dia: 19\n",
      "El total actual de infectados por el virus es de: 1272713\n",
      "El total actual de personas en estado crítico en el hospital es de: 127271\n",
      "El total actual de personas curadas tras haber sido infectadas por el virus es de: 31817\n",
      "El hospital se encuentra saturado, con un total de casos críticos de: 127271\n",
      "Dia: 20\n",
      "El total actual de infectados por el virus es de: 1718162\n",
      "El total actual de personas en estado crítico en el hospital es de: 171816\n",
      "El total actual de personas curadas tras haber sido infectadas por el virus es de: 42954\n",
      "El hospital se encuentra saturado, con un total de casos críticos de: 171816\n"
     ]
    }
   ],
   "source": [
    "# Mostramos por pantalla la actualización diaria del progreso de expansión de la enfermedad y la presión hospitalaria.\n",
    "\n",
    "SMI_beds = 3363\n",
    "days = 21\n",
    "\n",
    "# Iteramos sobre los días de la simulación\n",
    "for day in range(0, days):\n",
    "    print(\"Dia: \" + str(day))\n",
    "    total_infected = int(cal_infected(4250, day))\n",
    "    print(\"El total actual de infectados por el virus es de: \" + str(total_infected))\n",
    "    total_critical = int(total_infected * 0.1)\n",
    "    print(\"El total actual de personas en estado crítico en el hospital es de: \" + str(total_critical))\n",
    "    total_exitus = int(total_infected * 0.025)\n",
    "    print(\"El total actual de personas curadas tras haber sido infectadas por el virus es de: \" + str(total_exitus))\n",
    "    # Establecemos las condiciones para establecer el estado de saturación del hospital y lo mostramos por pantalla.\n",
    "    if SMI_beds < total_critical:\n",
    "        print(\"El hospital se encuentra saturado, con un total de casos críticos de: \" + str(total_critical))\n",
    "    else:\n",
    "        print(\"El hospital no se encuentra saturado, con un total de casos críticos de: \" + str(total_critical))"
   ]
  },
  {
   "cell_type": "markdown",
   "metadata": {},
   "source": [
    "\n",
    "c) Convierte el código anterior en una función que genere un archivo de texto con nombre `output.txt`, siguiendo este formato: \n",
    "```\n",
    "Dia, Afectados, Críticos, Exitus, Estado\n",
    "0, 4250, 425,  106, No Saturación\n",
    "1, 5737, 573,  143, No Saturación\n",
    "2, 7745, 774,  193, No Saturación\n",
    "...\n",
    "```\n",
    "Con los parámetros de entrada $N$, $D$, $\\beta$, camas SMI.\n",
    "\n",
    "<span style=\"font-family: Courier New; background-color: #82b74b; color: #000000; padding: 2px; \">NM</span>"
   ]
  },
  {
   "cell_type": "code",
   "execution_count": 6,
   "metadata": {},
   "outputs": [
    {
     "name": "stdout",
     "output_type": "stream",
     "text": [
      "Days, Infected, Critical, Exitus, State\n",
      "\n",
      "\n",
      "\n",
      "0,4250,425,106,No Saturación\n",
      "\n",
      "\n",
      "\n",
      "1,5737,573,143,No Saturación\n",
      "\n",
      "\n",
      "\n",
      "2,7745,774,193,No Saturación\n",
      "\n",
      "\n",
      "\n",
      "3,10456,1045,261,No Saturación\n",
      "\n",
      "\n",
      "\n",
      "4,14116,1411,352,No Saturación\n",
      "\n",
      "\n",
      "\n",
      "5,19057,1905,476,No Saturación\n",
      "\n",
      "\n",
      "\n",
      "6,25727,2572,643,No Saturación\n",
      "\n",
      "\n",
      "\n",
      "7,34731,3473,868,Saturación\n",
      "\n",
      "\n",
      "\n",
      "8,46887,4688,1172,Saturación\n",
      "\n",
      "\n",
      "\n",
      "9,63298,6329,1582,Saturación\n",
      "\n",
      "\n",
      "\n",
      "10,85452,8545,2136,Saturación\n",
      "\n",
      "\n",
      "\n",
      "11,115361,11536,2884,Saturación\n",
      "\n",
      "\n",
      "\n",
      "12,155737,15573,3893,Saturación\n",
      "\n",
      "\n",
      "\n",
      "13,210246,21024,5256,Saturación\n",
      "\n",
      "\n",
      "\n",
      "14,283832,28383,7095,Saturación\n",
      "\n",
      "\n",
      "\n",
      "15,383173,38317,9579,Saturación\n",
      "\n",
      "\n",
      "\n",
      "16,517284,51728,12932,Saturación\n",
      "\n",
      "\n",
      "\n",
      "17,698333,69833,17458,Saturación\n",
      "\n",
      "\n",
      "\n",
      "18,942750,94275,23568,Saturación\n",
      "\n",
      "\n",
      "\n",
      "19,1272713,127271,31817,Saturación\n",
      "\n",
      "\n",
      "\n",
      "20,1718162,171816,42954,Saturación\n",
      "\n",
      "\n",
      "\n"
     ]
    }
   ],
   "source": [
    "# Importamos la librería que utilizaremos.\n",
    "import os\n",
    "\n",
    "# Redefinimos la función cal_infected para que incluya beta como parámetro.\n",
    "def cal_infected(N, D, beta):\n",
    "    \"\"\"\n",
    "    Calcula el número de infectados virus SARS-CoV-2 en base a un modelo de expansión de la enfermedad.\n",
    "    \"\"\"\n",
    "    total_infected = ((1 + beta)**D) * N\n",
    "    return total_infected\n",
    "\n",
    "# Creamos la función que genere el archivo.\n",
    "def generate_file_covid(N, D, beta, SMI_beds):\n",
    "    \"\"\"\n",
    "    Genera un archivo con datos actualizados de la expansión del virus SARS-CoV-2.\n",
    "    \"\"\"\n",
    "    file_output_covid = open(\"output_covid.txt\",\"w\")\n",
    "    # Escribimos en el fichero el header y añadimos un salto de línea. \n",
    "    file_output_covid.write(\"Days, Infected, Critical, Exitus, State\" + os.linesep)\n",
    "    \n",
    "    # Iteramos sobre los días de la simulación.\n",
    "    for day in range(0, D):\n",
    "        total_infected = int(cal_infected(N, day, beta))\n",
    "        total_critical = int(total_infected * 0.1)\n",
    "        total_exitus = int(total_infected * 0.025)\n",
    "        # Establecemos las condiciones de estado de saturación del hospital.\n",
    "        if SMI_beds < total_critical:\n",
    "            state = \"Saturación\"\n",
    "        else:\n",
    "            state = \"No Saturación\"\n",
    "        \n",
    "        # Escribimos en el fichero concatenando las distintas variables.\n",
    "        file_output_covid.write(str(day) + \",\" + str(total_infected) + \",\" + str(total_critical) + \",\" + str(total_exitus) + \",\" + state + os.linesep)\n",
    "\n",
    "    # Cerramos el fichero.\n",
    "    file_output_covid.close() \n",
    "\n",
    "# Llamamos a la función.\n",
    "generate_file_covid(4250, 21, 0.35, 3363)\n",
    "\n",
    "# Mostramos el resultado para comprobar que se ha generado correctamente.\n",
    "with open(\"output_covid.txt\") as file_output_covid:\n",
    "    for line in file_output_covid:\n",
    "        print(line)"
   ]
  },
  {
   "cell_type": "markdown",
   "metadata": {},
   "source": [
    "### Ejercicio 3\n",
    "\n",
    "Dado el siguiente diccionario:"
   ]
  },
  {
   "cell_type": "code",
   "execution_count": 7,
   "metadata": {},
   "outputs": [],
   "source": [
    "d = {\"Alex\":344334443, \"Eva\":5533443, \"Cristina\":443355, \"Jonas\":33223324}"
   ]
  },
  {
   "cell_type": "markdown",
   "metadata": {},
   "source": [
    "Escribid una función que pregunte al usuario que introduzca el nombre de una persona y muestre por pantalla el nombre de la persona y su teléfono. \n",
    "\n",
    "Tened en cuenta que:\n",
    "\n",
    "- La función debe controlar que el valor introducido por el usuario es un nombre que existe en el diccionario. En caso contrario, mostrará un mensaje de error (\"El nombre introducido no corresponde a ninguna persona\") y devolverá el valor False.\n",
    "- Debéis tener en cuenta que el nombre de las personas que nos pasan por parámetro puede ser en minúsculas, mayúsculas o una combinación de ambas, y que debemos encontrar el número de teléfono aunque la capitalización de la cadena entrada por el usuario no sea exactamente la misma que hemos almacenado en el diccionario.\n",
    "- Suponed que  no hay acentos en los nombres.\n",
    "\n",
    "Nota 1: Para realizar la actividad, tendréis que capturar un texto que entrará el usuario. Consultad la [documentación oficial de la función input](https://docs.python.org/3/library/functions.html#input) para ver cómo hacerlo.\n",
    "\n",
    "Nota 2: También tendréis que pensar cómo tratar el hecho de que el usuario pueda utilizar mayúsculas y minúsculas en la escritura del nombre en el diccionario. ¡Os animamos a usar un buscador para intentar encontrar alguna alternativa para resolver este subproblema! ¡Recordad citar las referencias que hayáis usado para resolverlo!\n",
    "\n",
    "<span style=\"font-family: Courier New; background-color: #ffcc5c; color: #000000; padding: 3px; \">EG</span>"
   ]
  },
  {
   "cell_type": "code",
   "execution_count": 8,
   "metadata": {},
   "outputs": [
    {
     "name": "stdout",
     "output_type": "stream",
     "text": [
      "Introduzca un nombreCRISTINA\n",
      "El nombre introducido es Cristina y el número de teléfono asociado a este nombre es 443355\n"
     ]
    }
   ],
   "source": [
    "d = {\"Alex\":344334443, \"Eva\":5533443, \"Cristina\":443355, \"Jonas\":33223324}\n",
    "\n",
    "# Creamos una función que muestre por pantalla el nombre de una persona y su teléfono.\n",
    "def print_name_tlf():\n",
    "    \"\"\"\n",
    "    Pedimos un nombre al usuario y mostramos por pantalla el nombre introducido así como el teléfono asoaciado a ese nombre.\n",
    "    \"\"\"\n",
    "    # Usamos la función capitalize para que las mayúsculas y minúsculas que pueda introducir el usuario coincidan con el\n",
    "    # diccionario.\n",
    "    user_name = input(\"Introduzca un nombre\").capitalize()\n",
    "    if user_name in d:\n",
    "        print(\"El nombre introducido es \" + user_name + \" y el número de teléfono asociado a este nombre es \" + str(d[user_name]))\n",
    "    else:\n",
    "        print(\"El nombre introducido no corresponde a ninguna persona\")\n",
    "        return False\n",
    "    \n",
    "\n",
    "# Llamamos a la función.\n",
    "print_name_tlf()"
   ]
  },
  {
   "cell_type": "markdown",
   "metadata": {},
   "source": [
    "Referencias consultadas:\n",
    "\n",
    "*https://docs.python.org/3/library/stdtypes.html?highlight=capitalize#str.capitalize*"
   ]
  },
  {
   "cell_type": "markdown",
   "metadata": {},
   "source": [
    "###  Ejercicio 4\n",
    "\n",
    "Python dispone de un **idiom** muy útil conocido como `list comprehension`. Utilizando este **idiom**, proporcionad una expresión que devuelva las listas siguientes.\n",
    "\n",
    "Nota: Para realizar esta actividad necesitaréis investigar qué son las `list comprehension` y qué sintaxis utilizan. Para ello, se recomienda en primer lugar que utilicéis un buscador para encontrar información genérica sobre esta construcción. Después, os recomendamos que consultéis stackoverflow para ver algunos ejemplos de problemas que se pueden resolver con esta construcción.\n",
    "\n",
    "\n",
    "[stackoverflow](https://stackoverflow.com/) es un sitio de preguntas-y-respuestas muy popular entre programadores. Veréis que para la gran mayoría de las dudas que tengáis, habrá alguien que ya les habrá tenido (y consultado) anteriormente! Así pues, más allá de preguntar vosotros mismos las dudas allí (nosotros ya tenemos el foro del aula para ello!), consultar esta web os permitirá ver qué soluciones proponen otros programadores a estas dudas. A menudo habrá más de una solución a un mismo problema, y podréis valorar cuál es la más adecuada para vuestro problema.\n",
    "\n",
    "Para ver ejemplos de problemas que son adecuados para resolver con **list comprehensions**, os recomendamos leer las siguientes páginas:\n",
    "* https://stackoverflow.com/questions/12555443/squaring-all-elements-in-a-list\n",
    "* https://stackoverflow.com/questions/18551458/how-to-frame-two-for-loops-in-list-comprehension-python\n",
    "* https://stackoverflow.com/questions/24442091/list-comprehension-with-condition\n",
    "* https://stackoverflow.com/questions/41676212/i-want-to-return-only-the-odd-numbers-in-a-list\n",
    "* https://stackoverflow.com/questions/4260280/if-else-in-a-list-comprehension\n",
    "\n",
    "<span style=\"font-family: Courier New; background-color: #ffcc5c; color: #000000; padding: 3px; \">EG</span>\n"
   ]
  },
  {
   "cell_type": "markdown",
   "metadata": {},
   "source": [
    "a) Una lista con los valores $4 x^2$ donde $x$ es cada uno de los números de la lista `list_1`:"
   ]
  },
  {
   "cell_type": "code",
   "execution_count": 9,
   "metadata": {},
   "outputs": [
    {
     "data": {
      "text/plain": [
       "[4, 16, 36, 64, 100, 144, 196, 256, 324]"
      ]
     },
     "execution_count": 9,
     "metadata": {},
     "output_type": "execute_result"
    }
   ],
   "source": [
    "list_1 = [1, 2, 3, 4, 5, 6, 7, 8, 9]\n",
    "\n",
    "[4 * x**2 for x in list_1]"
   ]
  },
  {
   "cell_type": "markdown",
   "metadata": {},
   "source": [
    "b) Una lista con los valores $x/(x+1)$ donde $x$ es cada uno de los números de la lista `list_1`:"
   ]
  },
  {
   "cell_type": "code",
   "execution_count": 10,
   "metadata": {},
   "outputs": [
    {
     "data": {
      "text/plain": [
       "[0.5,\n",
       " 0.6666666666666666,\n",
       " 0.75,\n",
       " 0.8,\n",
       " 0.8333333333333334,\n",
       " 0.8571428571428571,\n",
       " 0.875,\n",
       " 0.8888888888888888,\n",
       " 0.9]"
      ]
     },
     "execution_count": 10,
     "metadata": {},
     "output_type": "execute_result"
    }
   ],
   "source": [
    "list_1 = [1, 2, 3, 4, 5, 6, 7, 8, 9]\n",
    "\n",
    "[x/(x + 1) for x in list_1]"
   ]
  },
  {
   "cell_type": "markdown",
   "metadata": {},
   "source": [
    "c) Una lista con los valores $4x^2/(4x^2-1)$ donde $x$ es cada uno de los números de la lista `list_1`:"
   ]
  },
  {
   "cell_type": "code",
   "execution_count": 11,
   "metadata": {},
   "outputs": [
    {
     "data": {
      "text/plain": [
       "[1.3333333333333333,\n",
       " 1.0666666666666667,\n",
       " 1.0285714285714285,\n",
       " 1.0158730158730158,\n",
       " 1.0101010101010102,\n",
       " 1.006993006993007,\n",
       " 1.005128205128205,\n",
       " 1.003921568627451,\n",
       " 1.0030959752321982]"
      ]
     },
     "execution_count": 11,
     "metadata": {},
     "output_type": "execute_result"
    }
   ],
   "source": [
    "list_1 = [1, 2, 3, 4, 5, 6, 7, 8, 9]\n",
    "\n",
    "[(4 * x**2)/(4 * x**2 - 1) for x in list_1]"
   ]
  },
  {
   "cell_type": "markdown",
   "metadata": {},
   "source": [
    "### Ejercicio 5\n",
    "\n",
    "Las funciones `lambda` son formas de expresar y definir funciones pequeñas sin necesidad de usar el constructor `def funcion():`.\n",
    "\n",
    "Lee sobre las funciones lambda, por ejemplo [aquí](https://www.w3schools.com/python/python_lambda.asp) o [aquí](https://realpython.com/python-lambda/)\n",
    "\n",
    "Escribe una función $f$ con argumento $n$, $f(n)$, que **devuelva una función** lambda, que esta a su vez devuelva $n$ copias de una cadena de caracteres en su argumento: \n",
    "\n",
    "<span style=\"font-family: Courier New; background-color: #f2ae72; color: #000000; padding: 3px; \">EI</span>"
   ]
  },
  {
   "cell_type": "code",
   "execution_count": 12,
   "metadata": {},
   "outputs": [
    {
     "name": "stdout",
     "output_type": "stream",
     "text": [
      "holaholaholaholahola\n",
      "casacasacasacasa\n",
      "pelotapelotapelotapelota\n",
      "árbolárbolárbolárbol\n"
     ]
    }
   ],
   "source": [
    "# Definimos una función que devuelve una función lambda.\n",
    "\n",
    "def f(n):\n",
    "    return(lambda x: x * n)\n",
    "\n",
    "r = f(5)\n",
    "print(r(\"hola\"))  # Donde deberíamos ver 5 copias del literal \"Hola\"\n",
    "\n",
    "\n",
    "# Otra forma de llamar a la función y comprobar el resultado.\n",
    "print(f(4)(\"casa\"))\n",
    "print(f(4)(\"pelota\"))\n",
    "print(f(4)(\"árbol\"))"
   ]
  },
  {
   "cell_type": "markdown",
   "metadata": {},
   "source": [
    "### Ejercicio Opcional\n",
    "\n",
    "Existe una expresión atribuida a John Wallis (1616) para la estimación del valor de $\\pi$, consistente en: \n",
    "\n",
    "$$\n",
    "\\frac{\\pi}{2} = \\prod_{n=1}^{N} (\\frac{4n^2}{4n^2 - 1})\n",
    "$$\n",
    "si $N$ es suficientemente grande  $N \\to \\infty$. \n",
    "\n",
    "Escribe una función que, dado una aproximación N, calcule una estimación de $\\pi$ siguiendo la fórmula de Wallis. \n",
    "\n",
    "\n",
    "\n",
    "**Consideraciones:**\n",
    "\n",
    "- Investigad las funciones map, reduce\n",
    "- También podéis usar una list comprehension\n",
    "- Las funciones lambda os pueden ser útiles\n",
    "\n",
    "<span style=\"font-family: Courier New; background-color: #f2ae72; color: #000000; padding: 3px; \">EI</span>"
   ]
  },
  {
   "cell_type": "code",
   "execution_count": 13,
   "metadata": {},
   "outputs": [
    {
     "name": "stdout",
     "output_type": "stream",
     "text": [
      "La estimación del valor del número pi con un N de 40 es de: 3.1222603264214372\n",
      "3.1222603264214372\n",
      "La estimación del valor del número pi con un N de 1000000 es de: 3.141591868192149\n",
      "3.141591868192149\n",
      "La estimación del valor del número pi con un N de 100000000 es de: 3.141592643066262\n",
      "3.141592643066262\n"
     ]
    }
   ],
   "source": [
    "# Importamos la librería numpy que utilizaremos.\n",
    "import numpy\n",
    "\n",
    "# Definimos la función para el cálculo del número pi.\n",
    "def cal_pi(N):\n",
    "    \"\"\"\n",
    "    Estima el valor del número pi en base a un número dado.\n",
    "    \"\"\"\n",
    "    # Utilizamos una list comprehension para aplicar la expresión de John Wallis y guardamos el resultado en una variable.\n",
    "    pi = numpy.prod([(4 * n**2 / (4 * n**2 - 1)) for n in range(1,N + 1)]) * 2\n",
    "    \n",
    "    # Mostramos por pantalla el valor pi con un mensaje personalizado.\n",
    "    print(\"La estimación del valor del número pi con un N de \" + str(N) + \" es de: \" + str(pi))\n",
    "    return pi\n",
    "\n",
    "# Probamos la función.\n",
    "print(cal_pi(40))\n",
    "print(cal_pi(1000000))\n",
    "print(cal_pi(100000000))"
   ]
  }
 ],
 "metadata": {
  "kernelspec": {
   "display_name": "Python 3",
   "language": "python",
   "name": "python3"
  },
  "language_info": {
   "codemirror_mode": {
    "name": "ipython",
    "version": 3
   },
   "file_extension": ".py",
   "mimetype": "text/x-python",
   "name": "python",
   "nbconvert_exporter": "python",
   "pygments_lexer": "ipython3",
   "version": "3.7.6"
  }
 },
 "nbformat": 4,
 "nbformat_minor": 4
}
